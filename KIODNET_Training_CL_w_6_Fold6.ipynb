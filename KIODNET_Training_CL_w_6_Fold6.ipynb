{
  "cells": [
    {
      "attachments": {},
      "cell_type": "markdown",
      "id": "2aab5f2e",
      "metadata": {
        "id": "2aab5f2e"
      },
      "source": [
        "<h1><center><b>Improving Deep Learning for Indoor-Outdoor Detection (IOD)</center></h1></b>"
      ]
    },
    {
      "attachments": {},
      "cell_type": "markdown",
      "id": "eb3f86de",
      "metadata": {
        "id": "eb3f86de"
      },
      "source": [
        "<h2><b>  Author:</h2></b>\n",
        "\n",
        "        Bilal Dastagir     "
      ]
    },
    {
      "attachments": {},
      "cell_type": "markdown",
      "id": "jP6L9ylAu-Rr",
      "metadata": {
        "id": "jP6L9ylAu-Rr"
      },
      "source": [
        "## Mount Google Colab"
      ]
    },
    {
      "cell_type": "code",
      "execution_count": 1,
      "id": "VBhu2oJku7iL",
      "metadata": {
        "colab": {
          "base_uri": "https://localhost:8080/"
        },
        "id": "VBhu2oJku7iL",
        "outputId": "ee30bef3-3725-4a25-840a-63bcb9c12f1f"
      },
      "outputs": [
        {
          "name": "stdout",
          "output_type": "stream",
          "text": [
            "trainingTestingData.csv\n"
          ]
        }
      ],
      "source": [
        "try:\n",
        "    from google.colab import drive\n",
        "    drive.mount('/content/gdrive')\n",
        "    dataset_Path = '/content/gdrive/MyDrive/Datasets/'\n",
        "    model_Path = '/content/gdrive/MyDrive/models/'\n",
        "except:\n",
        "    dataset_Path = '/home/bilz/IODNET/Datasets/'\n",
        "    model_Path = '/home/bilz/IODNET/models/'\n",
        "\n",
        "dataset_Path_Full = dataset_Path + 'trainingTestingData.csv'\n",
        "DATA_PATH = dataset_Path_Full\n",
        "print(DATA_PATH)"
      ]
    },
    {
      "cell_type": "code",
      "execution_count": 2,
      "id": "02bea821",
      "metadata": {},
      "outputs": [],
      "source": [
        "windows_Size = 50"
      ]
    },
    {
      "attachments": {},
      "cell_type": "markdown",
      "id": "43be3000",
      "metadata": {
        "id": "43be3000"
      },
      "source": [
        "<h2><b>  Importing all the necessary libraries </h2></b>"
      ]
    },
    {
      "cell_type": "code",
      "execution_count": 3,
      "id": "20be7a94",
      "metadata": {
        "colab": {
          "base_uri": "https://localhost:8080/"
        },
        "id": "20be7a94",
        "outputId": "4ddc72cb-b7b4-49c7-bb8c-9f34f3ecd11e"
      },
      "outputs": [
        {
          "name": "stderr",
          "output_type": "stream",
          "text": [
            "2023-07-19 10:59:07.003231: I tensorflow/core/platform/cpu_feature_guard.cc:193] This TensorFlow binary is optimized with oneAPI Deep Neural Network Library (oneDNN) to use the following CPU instructions in performance-critical operations:  AVX2 FMA\n",
            "To enable them in other operations, rebuild TensorFlow with the appropriate compiler flags.\n",
            "2023-07-19 10:59:07.108085: W tensorflow/compiler/xla/stream_executor/platform/default/dso_loader.cc:64] Could not load dynamic library 'libcudart.so.11.0'; dlerror: libcudart.so.11.0: cannot open shared object file: No such file or directory\n",
            "2023-07-19 10:59:07.108100: I tensorflow/compiler/xla/stream_executor/cuda/cudart_stub.cc:29] Ignore above cudart dlerror if you do not have a GPU set up on your machine.\n",
            "2023-07-19 10:59:07.509954: W tensorflow/compiler/xla/stream_executor/platform/default/dso_loader.cc:64] Could not load dynamic library 'libnvinfer.so.7'; dlerror: libnvinfer.so.7: cannot open shared object file: No such file or directory\n",
            "2023-07-19 10:59:07.509994: W tensorflow/compiler/xla/stream_executor/platform/default/dso_loader.cc:64] Could not load dynamic library 'libnvinfer_plugin.so.7'; dlerror: libnvinfer_plugin.so.7: cannot open shared object file: No such file or directory\n",
            "2023-07-19 10:59:07.509999: W tensorflow/compiler/tf2tensorrt/utils/py_utils.cc:38] TF-TRT Warning: Cannot dlopen some TensorRT libraries. If you would like to use Nvidia GPU with TensorRT, please make sure the missing libraries mentioned above are installed properly.\n"
          ]
        },
        {
          "name": "stdout",
          "output_type": "stream",
          "text": [
            "2.11.0\n"
          ]
        }
      ],
      "source": [
        "import pandas as pd\n",
        "import numpy as np\n",
        "import matplotlib.pyplot as plt\n",
        "from sklearn.model_selection import train_test_split\n",
        "from sklearn.preprocessing import StandardScaler, LabelEncoder\n",
        "import scipy.stats as stats\n",
        "from mlxtend.plotting import plot_confusion_matrix\n",
        "from sklearn.metrics import confusion_matrix\n",
        "from sklearn.metrics import f1_score\n",
        "from sklearn.metrics import precision_recall_fscore_support\n",
        "import seaborn as sns\n",
        "import warnings\n",
        "import tensorflow as tf\n",
        "from tensorflow.keras import Sequential\n",
        "from tensorflow.keras.layers import Flatten, Dense, Dropout, BatchNormalization\n",
        "from tensorflow.keras.layers import Conv2D, MaxPool2D, MaxPooling2D\n",
        "from tensorflow.keras.optimizers import Adam\n",
        "from matplotlib.pyplot import figure\n",
        "from sklearn.metrics import accuracy_score\n",
        "warnings.filterwarnings('ignore')\n",
        "#Printing the version of TensorFlow in use\n",
        "print(tf.__version__)"
      ]
    },
    {
      "attachments": {},
      "cell_type": "markdown",
      "id": "LZX5wh37T9_m",
      "metadata": {
        "id": "LZX5wh37T9_m"
      },
      "source": [
        "## Improving Deep Learning for Indoor-Outdoor Detection (IOD) in Location-Based Service (LBS)"
      ]
    },
    {
      "attachments": {},
      "cell_type": "markdown",
      "id": "6d7e8e3f",
      "metadata": {
        "id": "6d7e8e3f"
      },
      "source": [
        "<h2><b> Pre-processing of the Dataset </b></h2>"
      ]
    },
    {
      "cell_type": "code",
      "execution_count": 4,
      "id": "8d41f5f8",
      "metadata": {
        "colab": {
          "base_uri": "https://localhost:8080/"
        },
        "id": "8d41f5f8",
        "outputId": "4b28c269-68ee-4bc7-9916-ebd322d513e8"
      },
      "outputs": [
        {
          "name": "stdout",
          "output_type": "stream",
          "text": [
            "    RSRP  RSRQ  Light        Mag       Acc    Sound  Proximity  Daytime  \\\n",
            "0 -105.0  -9.0    2.0  37.842307  0.009740  -7.6329        5.0        0   \n",
            "1 -103.0 -12.0    2.0  55.649774  0.010544  44.3180        5.0        0   \n",
            "2  -92.0 -15.0   76.0  69.694050  0.009716  16.1690        5.0        0   \n",
            "3 -112.0 -12.0    2.0  52.046729  0.231601  47.5940        0.0        1   \n",
            "4 -100.0 -13.0    2.0  46.116479  0.012331  20.1266        0.0        0   \n",
            "\n",
            "   New_Recording   IO  \n",
            "0              0  1.0  \n",
            "1              0  1.0  \n",
            "2              0  1.0  \n",
            "3              0  1.0  \n",
            "4              0  1.0  \n"
          ]
        }
      ],
      "source": [
        "# load the original CSV file into a DataFrame\n",
        "df = pd.read_csv(DATA_PATH)\n",
        "print(df.head())"
      ]
    },
    {
      "cell_type": "code",
      "execution_count": 5,
      "id": "12572b7f",
      "metadata": {
        "colab": {
          "base_uri": "https://localhost:8080/"
        },
        "id": "12572b7f",
        "outputId": "e9b26639-1e3a-47e4-d939-07dc67351f98"
      },
      "outputs": [
        {
          "name": "stdout",
          "output_type": "stream",
          "text": [
            "Shape of the data: (1325958, 10)\n"
          ]
        }
      ],
      "source": [
        "columns = ['RSRP','RSRQ','Light','Mag','Acc','Sound','Proximity','Daytime','New_Recording','IO']\n",
        "data = pd.DataFrame(data = df, columns = columns)\n",
        "print('Shape of the data:', data.shape)\n",
        "# Converting the string formatted data into float\n",
        "data['RSRP'] = data['RSRP'].astype('float')\n",
        "data['RSRQ'] = data['RSRQ'].astype('float')\n",
        "data['Light'] = data['Light'].astype('float')\n",
        "data['Mag'] = data['Mag'].astype('float')\n",
        "data['Acc'] = data['Acc'].astype('float')\n",
        "data['Sound'] = data['Sound'].astype('float')\n",
        "data['Proximity'] = data['Proximity'].astype('float')\n",
        "data['Daytime'] = data['Daytime'].astype('float')\n",
        "data['New_Recording'] = data['New_Recording'].astype('float')\n",
        "data['IO'] = data['IO'].astype('float')\n",
        "states = data['IO'].value_counts().index"
      ]
    },
    {
      "cell_type": "code",
      "execution_count": 6,
      "id": "3a64a31e",
      "metadata": {
        "id": "3a64a31e"
      },
      "outputs": [],
      "source": [
        "data.reset_index(drop=True, inplace=True)\n",
        "data.index = data.index + 1\n",
        "data.index.name = 'index'\n"
      ]
    },
    {
      "cell_type": "code",
      "execution_count": 7,
      "id": "15a4b846",
      "metadata": {
        "colab": {
          "base_uri": "https://localhost:8080/"
        },
        "id": "15a4b846",
        "outputId": "118077b0-1f66-42d2-8105-76a2b0ef6e2e"
      },
      "outputs": [
        {
          "name": "stdout",
          "output_type": "stream",
          "text": [
            "        RSRP  RSRQ  Light        Mag       Acc    Sound  Proximity  Daytime  \\\n",
            "index                                                                         \n",
            "1     -105.0  -9.0    2.0  37.842307  0.009740  -7.6329        5.0      0.0   \n",
            "2     -103.0 -12.0    2.0  55.649774  0.010544  44.3180        5.0      0.0   \n",
            "3      -92.0 -15.0   76.0  69.694050  0.009716  16.1690        5.0      0.0   \n",
            "4     -112.0 -12.0    2.0  52.046729  0.231601  47.5940        0.0      1.0   \n",
            "5     -100.0 -13.0    2.0  46.116479  0.012331  20.1266        0.0      0.0   \n",
            "\n",
            "       New_Recording   IO  \n",
            "index                      \n",
            "1                0.0  1.0  \n",
            "2                0.0  1.0  \n",
            "3                0.0  1.0  \n",
            "4                0.0  1.0  \n",
            "5                0.0  1.0  \n"
          ]
        }
      ],
      "source": [
        "# load the original CSV file into a DataFrame\n",
        "print(data.head())"
      ]
    },
    {
      "attachments": {},
      "cell_type": "markdown",
      "id": "36930acf",
      "metadata": {
        "id": "36930acf"
      },
      "source": [
        "###  Balancing the Dataset"
      ]
    },
    {
      "attachments": {},
      "cell_type": "markdown",
      "id": "wbOP7fuNnUhU",
      "metadata": {
        "id": "wbOP7fuNnUhU"
      },
      "source": [
        "As observed \"Indoor\" has the most values, whereas the label \"Outdoor\" has the least"
      ]
    },
    {
      "cell_type": "code",
      "execution_count": 8,
      "id": "25a67ab7",
      "metadata": {
        "colab": {
          "base_uri": "https://localhost:8080/"
        },
        "id": "25a67ab7",
        "outputId": "0ea69ad3-c67a-4ca7-b466-66b0897d61b0"
      },
      "outputs": [
        {
          "data": {
            "text/plain": [
              "1.0    822398\n",
              "0.0    503560\n",
              "Name: IO, dtype: int64"
            ]
          },
          "execution_count": 8,
          "metadata": {},
          "output_type": "execute_result"
        }
      ],
      "source": [
        "df['IO'].value_counts()"
      ]
    },
    {
      "cell_type": "code",
      "execution_count": 9,
      "id": "HSXeuj9hzl6r",
      "metadata": {
        "colab": {
          "base_uri": "https://localhost:8080/",
          "height": 727
        },
        "id": "HSXeuj9hzl6r",
        "outputId": "d3b5b579-bedd-4c09-dfb4-457be3fe1f68"
      },
      "outputs": [
        {
          "data": {
            "image/png": "[encoded data removed]",
            "text/plain": [
              "<Figure size 1500x800 with 1 Axes>"
            ]
          },
          "metadata": {},
          "output_type": "display_data"
        }
      ],
      "source": [
        "# Analyzing Class Label Distribution\n",
        "sns.set_style('whitegrid')\n",
        "sns.set(rc = {'figure.figsize':(15,8)})\n",
        "sns.countplot(x = 'IO', data = df)\n",
        "plt.title('Training Examples by State Type')\n",
        "plt.show()"
      ]
    },
    {
      "attachments": {},
      "cell_type": "markdown",
      "id": "YbwWe23Pz3MY",
      "metadata": {
        "id": "YbwWe23Pz3MY"
      },
      "source": [
        "Since \"Outdoor\" has the least quantity of data, we have taken it as a reference for balancing"
      ]
    },
    {
      "cell_type": "code",
      "execution_count": 10,
      "id": "b1f4bfb1",
      "metadata": {
        "id": "b1f4bfb1"
      },
      "outputs": [],
      "source": [
        "Outdoor = df[df['IO'] == 0].head(500000).copy()\n",
        "Indoor = df[df['IO'] == 1].head(500000).copy()"
      ]
    },
    {
      "cell_type": "code",
      "execution_count": 11,
      "id": "2988caa8",
      "metadata": {
        "colab": {
          "base_uri": "https://localhost:8080/"
        },
        "id": "2988caa8",
        "outputId": "b9972c21-190c-4ee9-ed87-59af1e38d95c"
      },
      "outputs": [
        {
          "data": {
            "text/plain": [
              "(1000000, 10)"
            ]
          },
          "execution_count": 11,
          "metadata": {},
          "output_type": "execute_result"
        }
      ],
      "source": [
        "balanced_data = pd.DataFrame()\n",
        "balanced_data = balanced_data.append([Outdoor, Indoor])\n",
        "balanced_data.shape"
      ]
    },
    {
      "cell_type": "code",
      "execution_count": 12,
      "id": "2dadf38d",
      "metadata": {
        "colab": {
          "base_uri": "https://localhost:8080/"
        },
        "id": "2dadf38d",
        "outputId": "605dcf08-ff42-4420-a57e-52e49fd780b8"
      },
      "outputs": [
        {
          "name": "stdout",
          "output_type": "stream",
          "text": [
            "State Count: 0.0    500000\n",
            "1.0    500000\n",
            "Name: IO, dtype: int64\n"
          ]
        }
      ],
      "source": [
        "# Displaying the balanced data\n",
        "print('State Count:',balanced_data['IO'].value_counts())"
      ]
    },
    {
      "cell_type": "code",
      "execution_count": 13,
      "id": "zK8A0UvH2Ei6",
      "metadata": {
        "colab": {
          "base_uri": "https://localhost:8080/",
          "height": 727
        },
        "id": "zK8A0UvH2Ei6",
        "outputId": "7c55e345-299a-4e71-a86f-fcf4d1da2aa2"
      },
      "outputs": [
        {
          "data": {
            "image/png": "[encoded data removed]",
            "text/plain": [
              "<Figure size 1500x800 with 1 Axes>"
            ]
          },
          "metadata": {},
          "output_type": "display_data"
        }
      ],
      "source": [
        "# Analyzing Class Label Distribution\n",
        "sns.set_style('whitegrid')\n",
        "sns.set(rc = {'figure.figsize':(15,8)})\n",
        "sns.countplot(x = 'IO', data = balanced_data)\n",
        "plt.title('Training Examples by State Type')\n",
        "plt.show()"
      ]
    },
    {
      "cell_type": "code",
      "execution_count": 14,
      "id": "2ed75cb9",
      "metadata": {
        "colab": {
          "base_uri": "https://localhost:8080/",
          "height": 206
        },
        "id": "2ed75cb9",
        "outputId": "7d4a61bc-9e79-45ab-c625-0e0caa9e1dde"
      },
      "outputs": [
        {
          "data": {
            "text/html": [
              "<div>\n",
              "<style scoped>\n",
              "    .dataframe tbody tr th:only-of-type {\n",
              "        vertical-align: middle;\n",
              "    }\n",
              "\n",
              "    .dataframe tbody tr th {\n",
              "        vertical-align: top;\n",
              "    }\n",
              "\n",
              "    .dataframe thead th {\n",
              "        text-align: right;\n",
              "    }\n",
              "</style>\n",
              "<table border=\"1\" class=\"dataframe\">\n",
              "  <thead>\n",
              "    <tr style=\"text-align: right;\">\n",
              "      <th></th>\n",
              "      <th>RSRP</th>\n",
              "      <th>RSRQ</th>\n",
              "      <th>Light</th>\n",
              "      <th>Mag</th>\n",
              "      <th>Acc</th>\n",
              "      <th>Sound</th>\n",
              "      <th>Proximity</th>\n",
              "      <th>Daytime</th>\n",
              "      <th>New_Recording</th>\n",
              "      <th>IO</th>\n",
              "      <th>label</th>\n",
              "    </tr>\n",
              "  </thead>\n",
              "  <tbody>\n",
              "    <tr>\n",
              "      <th>9</th>\n",
              "      <td>-97.0</td>\n",
              "      <td>-17.0</td>\n",
              "      <td>0.66</td>\n",
              "      <td>44.348269</td>\n",
              "      <td>0.163469</td>\n",
              "      <td>50.13800</td>\n",
              "      <td>0.0</td>\n",
              "      <td>0</td>\n",
              "      <td>0</td>\n",
              "      <td>0.0</td>\n",
              "      <td>0</td>\n",
              "    </tr>\n",
              "    <tr>\n",
              "      <th>10</th>\n",
              "      <td>-61.0</td>\n",
              "      <td>-7.0</td>\n",
              "      <td>2.00</td>\n",
              "      <td>37.940366</td>\n",
              "      <td>2.178142</td>\n",
              "      <td>53.58200</td>\n",
              "      <td>0.0</td>\n",
              "      <td>0</td>\n",
              "      <td>0</td>\n",
              "      <td>0.0</td>\n",
              "      <td>0</td>\n",
              "    </tr>\n",
              "    <tr>\n",
              "      <th>13</th>\n",
              "      <td>-81.0</td>\n",
              "      <td>-12.0</td>\n",
              "      <td>151.00</td>\n",
              "      <td>52.495285</td>\n",
              "      <td>0.199459</td>\n",
              "      <td>32.57729</td>\n",
              "      <td>5.0</td>\n",
              "      <td>0</td>\n",
              "      <td>0</td>\n",
              "      <td>0.0</td>\n",
              "      <td>0</td>\n",
              "    </tr>\n",
              "    <tr>\n",
              "      <th>21</th>\n",
              "      <td>-81.0</td>\n",
              "      <td>-10.0</td>\n",
              "      <td>2.00</td>\n",
              "      <td>43.770242</td>\n",
              "      <td>2.769156</td>\n",
              "      <td>43.19700</td>\n",
              "      <td>0.0</td>\n",
              "      <td>0</td>\n",
              "      <td>0</td>\n",
              "      <td>0.0</td>\n",
              "      <td>0</td>\n",
              "    </tr>\n",
              "    <tr>\n",
              "      <th>22</th>\n",
              "      <td>-91.0</td>\n",
              "      <td>-7.0</td>\n",
              "      <td>2.00</td>\n",
              "      <td>40.528055</td>\n",
              "      <td>3.292488</td>\n",
              "      <td>43.45796</td>\n",
              "      <td>0.0</td>\n",
              "      <td>0</td>\n",
              "      <td>0</td>\n",
              "      <td>0.0</td>\n",
              "      <td>0</td>\n",
              "    </tr>\n",
              "  </tbody>\n",
              "</table>\n",
              "</div>"
            ],
            "text/plain": [
              "    RSRP  RSRQ   Light        Mag       Acc     Sound  Proximity  Daytime  \\\n",
              "9  -97.0 -17.0    0.66  44.348269  0.163469  50.13800        0.0        0   \n",
              "10 -61.0  -7.0    2.00  37.940366  2.178142  53.58200        0.0        0   \n",
              "13 -81.0 -12.0  151.00  52.495285  0.199459  32.57729        5.0        0   \n",
              "21 -81.0 -10.0    2.00  43.770242  2.769156  43.19700        0.0        0   \n",
              "22 -91.0  -7.0    2.00  40.528055  3.292488  43.45796        0.0        0   \n",
              "\n",
              "    New_Recording   IO  label  \n",
              "9               0  0.0      0  \n",
              "10              0  0.0      0  \n",
              "13              0  0.0      0  \n",
              "21              0  0.0      0  \n",
              "22              0  0.0      0  "
            ]
          },
          "execution_count": 14,
          "metadata": {},
          "output_type": "execute_result"
        }
      ],
      "source": [
        "# Encoding the Data with suitable labels\n",
        "label = LabelEncoder()\n",
        "balanced_data['label'] = label.fit_transform(balanced_data['IO'])\n",
        "balanced_data.head()"
      ]
    },
    {
      "attachments": {},
      "cell_type": "markdown",
      "id": "04d85d82",
      "metadata": {
        "id": "04d85d82"
      },
      "source": [
        "### Standardizing the Dataset"
      ]
    },
    {
      "cell_type": "code",
      "execution_count": 15,
      "id": "ee6af534",
      "metadata": {
        "colab": {
          "base_uri": "https://localhost:8080/",
          "height": 424
        },
        "id": "ee6af534",
        "outputId": "0600c566-f3c2-4415-bcbe-309f214302c0"
      },
      "outputs": [
        {
          "data": {
            "text/html": [
              "<div>\n",
              "<style scoped>\n",
              "    .dataframe tbody tr th:only-of-type {\n",
              "        vertical-align: middle;\n",
              "    }\n",
              "\n",
              "    .dataframe tbody tr th {\n",
              "        vertical-align: top;\n",
              "    }\n",
              "\n",
              "    .dataframe thead th {\n",
              "        text-align: right;\n",
              "    }\n",
              "</style>\n",
              "<table border=\"1\" class=\"dataframe\">\n",
              "  <thead>\n",
              "    <tr style=\"text-align: right;\">\n",
              "      <th></th>\n",
              "      <th>RSRP</th>\n",
              "      <th>RSRQ</th>\n",
              "      <th>Light</th>\n",
              "      <th>Mag</th>\n",
              "      <th>Acc</th>\n",
              "      <th>Sound</th>\n",
              "      <th>Proximity</th>\n",
              "      <th>Daytime</th>\n",
              "      <th>label</th>\n",
              "    </tr>\n",
              "  </thead>\n",
              "  <tbody>\n",
              "    <tr>\n",
              "      <th>0</th>\n",
              "      <td>-0.010360</td>\n",
              "      <td>-1.449255</td>\n",
              "      <td>-0.203838</td>\n",
              "      <td>-0.058869</td>\n",
              "      <td>-0.513899</td>\n",
              "      <td>0.827644</td>\n",
              "      <td>-1.024678</td>\n",
              "      <td>-0.499948</td>\n",
              "      <td>0</td>\n",
              "    </tr>\n",
              "    <tr>\n",
              "      <th>1</th>\n",
              "      <td>2.715828</td>\n",
              "      <td>1.691476</td>\n",
              "      <td>-0.202620</td>\n",
              "      <td>-0.386117</td>\n",
              "      <td>0.731036</td>\n",
              "      <td>1.003386</td>\n",
              "      <td>-1.024678</td>\n",
              "      <td>-0.499948</td>\n",
              "      <td>0</td>\n",
              "    </tr>\n",
              "    <tr>\n",
              "      <th>2</th>\n",
              "      <td>1.201279</td>\n",
              "      <td>0.121111</td>\n",
              "      <td>-0.067163</td>\n",
              "      <td>0.357194</td>\n",
              "      <td>-0.491659</td>\n",
              "      <td>-0.068450</td>\n",
              "      <td>0.975916</td>\n",
              "      <td>-0.499948</td>\n",
              "      <td>0</td>\n",
              "    </tr>\n",
              "    <tr>\n",
              "      <th>3</th>\n",
              "      <td>1.201279</td>\n",
              "      <td>0.749257</td>\n",
              "      <td>-0.202620</td>\n",
              "      <td>-0.088389</td>\n",
              "      <td>1.096243</td>\n",
              "      <td>0.473456</td>\n",
              "      <td>-1.024678</td>\n",
              "      <td>-0.499948</td>\n",
              "      <td>0</td>\n",
              "    </tr>\n",
              "    <tr>\n",
              "      <th>4</th>\n",
              "      <td>0.444005</td>\n",
              "      <td>1.691476</td>\n",
              "      <td>-0.202620</td>\n",
              "      <td>-0.253965</td>\n",
              "      <td>1.419628</td>\n",
              "      <td>0.486773</td>\n",
              "      <td>-1.024678</td>\n",
              "      <td>-0.499948</td>\n",
              "      <td>0</td>\n",
              "    </tr>\n",
              "    <tr>\n",
              "      <th>...</th>\n",
              "      <td>...</td>\n",
              "      <td>...</td>\n",
              "      <td>...</td>\n",
              "      <td>...</td>\n",
              "      <td>...</td>\n",
              "      <td>...</td>\n",
              "      <td>...</td>\n",
              "      <td>...</td>\n",
              "      <td>...</td>\n",
              "    </tr>\n",
              "    <tr>\n",
              "      <th>999995</th>\n",
              "      <td>-0.161814</td>\n",
              "      <td>1.063330</td>\n",
              "      <td>-0.198984</td>\n",
              "      <td>-0.329447</td>\n",
              "      <td>-0.611986</td>\n",
              "      <td>-2.131847</td>\n",
              "      <td>-1.024678</td>\n",
              "      <td>-0.499948</td>\n",
              "      <td>1</td>\n",
              "    </tr>\n",
              "    <tr>\n",
              "      <th>999996</th>\n",
              "      <td>-0.237542</td>\n",
              "      <td>-0.192962</td>\n",
              "      <td>-0.168983</td>\n",
              "      <td>-0.210153</td>\n",
              "      <td>-0.605822</td>\n",
              "      <td>0.703237</td>\n",
              "      <td>-1.024678</td>\n",
              "      <td>2.000206</td>\n",
              "      <td>1</td>\n",
              "    </tr>\n",
              "    <tr>\n",
              "      <th>999997</th>\n",
              "      <td>-0.388997</td>\n",
              "      <td>-0.507035</td>\n",
              "      <td>-0.202620</td>\n",
              "      <td>-0.273531</td>\n",
              "      <td>0.771198</td>\n",
              "      <td>0.238114</td>\n",
              "      <td>-1.024678</td>\n",
              "      <td>-0.499948</td>\n",
              "      <td>1</td>\n",
              "    </tr>\n",
              "    <tr>\n",
              "      <th>999998</th>\n",
              "      <td>-1.221999</td>\n",
              "      <td>-0.192962</td>\n",
              "      <td>-0.138982</td>\n",
              "      <td>-0.103882</td>\n",
              "      <td>-0.611385</td>\n",
              "      <td>-0.763471</td>\n",
              "      <td>0.975916</td>\n",
              "      <td>-0.499948</td>\n",
              "      <td>1</td>\n",
              "    </tr>\n",
              "    <tr>\n",
              "      <th>999999</th>\n",
              "      <td>1.352734</td>\n",
              "      <td>-0.507035</td>\n",
              "      <td>-0.180438</td>\n",
              "      <td>-0.609641</td>\n",
              "      <td>-0.609778</td>\n",
              "      <td>-0.352846</td>\n",
              "      <td>0.975916</td>\n",
              "      <td>-0.499948</td>\n",
              "      <td>1</td>\n",
              "    </tr>\n",
              "  </tbody>\n",
              "</table>\n",
              "<p>1000000 rows × 9 columns</p>\n",
              "</div>"
            ],
            "text/plain": [
              "            RSRP      RSRQ     Light       Mag       Acc     Sound  Proximity  \\\n",
              "0      -0.010360 -1.449255 -0.203838 -0.058869 -0.513899  0.827644  -1.024678   \n",
              "1       2.715828  1.691476 -0.202620 -0.386117  0.731036  1.003386  -1.024678   \n",
              "2       1.201279  0.121111 -0.067163  0.357194 -0.491659 -0.068450   0.975916   \n",
              "3       1.201279  0.749257 -0.202620 -0.088389  1.096243  0.473456  -1.024678   \n",
              "4       0.444005  1.691476 -0.202620 -0.253965  1.419628  0.486773  -1.024678   \n",
              "...          ...       ...       ...       ...       ...       ...        ...   \n",
              "999995 -0.161814  1.063330 -0.198984 -0.329447 -0.611986 -2.131847  -1.024678   \n",
              "999996 -0.237542 -0.192962 -0.168983 -0.210153 -0.605822  0.703237  -1.024678   \n",
              "999997 -0.388997 -0.507035 -0.202620 -0.273531  0.771198  0.238114  -1.024678   \n",
              "999998 -1.221999 -0.192962 -0.138982 -0.103882 -0.611385 -0.763471   0.975916   \n",
              "999999  1.352734 -0.507035 -0.180438 -0.609641 -0.609778 -0.352846   0.975916   \n",
              "\n",
              "         Daytime  label  \n",
              "0      -0.499948      0  \n",
              "1      -0.499948      0  \n",
              "2      -0.499948      0  \n",
              "3      -0.499948      0  \n",
              "4      -0.499948      0  \n",
              "...          ...    ...  \n",
              "999995 -0.499948      1  \n",
              "999996  2.000206      1  \n",
              "999997 -0.499948      1  \n",
              "999998 -0.499948      1  \n",
              "999999 -0.499948      1  \n",
              "\n",
              "[1000000 rows x 9 columns]"
            ]
          },
          "execution_count": 15,
          "metadata": {},
          "output_type": "execute_result"
        }
      ],
      "source": [
        "X = balanced_data[['RSRP','RSRQ','Light','Mag','Acc','Sound','Proximity','Daytime']]\n",
        "y = balanced_data['label']\n",
        "\n",
        "scaler = StandardScaler()\n",
        "X = scaler.fit_transform(X)\n",
        "\n",
        "scaled_X = pd.DataFrame(data = X, columns = ['RSRP','RSRQ','Light','Mag','Acc','Sound','Proximity','Daytime'])\n",
        "scaled_X['label'] = y.values\n",
        "\n",
        "scaled_X"
      ]
    },
    {
      "attachments": {},
      "cell_type": "markdown",
      "id": "1c4db99a",
      "metadata": {},
      "source": [
        "### Frame Size and Other Settings"
      ]
    },
    {
      "cell_type": "code",
      "execution_count": 16,
      "id": "d259444a",
      "metadata": {},
      "outputs": [],
      "source": [
        "frame_size = windows_Size\n",
        "hop_size = int(frame_size/2) \n",
        "n_features = 8"
      ]
    },
    {
      "cell_type": "code",
      "execution_count": 17,
      "id": "1d6cbcac",
      "metadata": {
        "id": "1d6cbcac"
      },
      "outputs": [],
      "source": [
        "\n",
        "\n",
        "def get_frames(df, frame_size, hop_size, n_features=8):\n",
        "\n",
        "    N_FEATURES = n_features\n",
        "\n",
        "    frames = []\n",
        "    labels = []\n",
        "    for i in range(0, len(df) - frame_size, hop_size):\n",
        "\n",
        "        RSRP = df['RSRP'].values[i: i + frame_size]\n",
        "        RSRQ = df['RSRQ'].values[i: i + frame_size]\n",
        "        Light = df['Light'].values[i: i + frame_size]\n",
        "        Mag = df['Mag'].values[i: i + frame_size]\n",
        "        Acc = df['Acc'].values[i: i + frame_size]\n",
        "        Sound = df['Sound'].values[i: i + frame_size]\n",
        "        Proximity = df['Proximity'].values[i: i + frame_size]\n",
        "        Daytime = df['Daytime'].values[i: i + frame_size]\n",
        "\n",
        "\n",
        "        # Retrieve the most often used label in this segment\n",
        "        label = stats.mode(df['label'][i: i + frame_size])[0][0]\n",
        "        frames.append([RSRP, RSRQ, Light, Mag, Acc, Sound, Proximity, Daytime])\n",
        "        labels.append(label)\n",
        "\n",
        "    # Bring the segments into a better shape\n",
        "    frames = np.asarray(frames).reshape(-1, frame_size, N_FEATURES)\n",
        "    labels = np.asarray(labels)\n",
        "\n",
        "    return frames, labels"
      ]
    },
    {
      "cell_type": "code",
      "execution_count": 18,
      "id": "a8eff5d4",
      "metadata": {
        "colab": {
          "background_save": true
        },
        "id": "a8eff5d4",
        "outputId": "d2ea434d-5842-4f8b-dbf4-734a3e822f1d"
      },
      "outputs": [
        {
          "data": {
            "text/plain": [
              "((39998, 50, 8), (39998,))"
            ]
          },
          "execution_count": 18,
          "metadata": {},
          "output_type": "execute_result"
        }
      ],
      "source": [
        "X.shape, y.shape\n",
        "caled_X = scaled_X.replace([np.inf, -np.inf], np.nan)\n",
        "scaled_X = scaled_X.dropna()\n",
        "scaled_X = scaled_X.reset_index(drop=True)\n",
        "X, y = get_frames(scaled_X, frame_size, hop_size)\n",
        "X.shape, y.shape"
      ]
    },
    {
      "attachments": {},
      "cell_type": "markdown",
      "id": "dfe522fa",
      "metadata": {},
      "source": [
        "### 6-fold cross-validation sets"
      ]
    },
    {
      "cell_type": "code",
      "execution_count": 19,
      "id": "ea2180c8",
      "metadata": {},
      "outputs": [
        {
          "data": {
            "text/plain": [
              "((31998, 50, 8), (8000, 50, 8))"
            ]
          },
          "execution_count": 19,
          "metadata": {},
          "output_type": "execute_result"
        }
      ],
      "source": [
        "from sklearn.model_selection import StratifiedKFold, train_test_split\n",
        "\n",
        "# Splitting the data into train and test sets\n",
        "X_train, X_test, y_train, y_test = train_test_split(X, y, test_size=0.2, random_state=1, stratify=y)\n",
        "\n",
        "# Creating the 6-fold cross-validation iterator\n",
        "kfold = StratifiedKFold(n_splits=6, shuffle=True, random_state=0)\n",
        "\n",
        "X_train.shape, X_test.shape"
      ]
    },
    {
      "cell_type": "code",
      "execution_count": 20,
      "id": "98026cb1",
      "metadata": {
        "colab": {
          "background_save": true
        },
        "id": "98026cb1",
        "outputId": "526db83b-0e63-460f-8497-143233af2806"
      },
      "outputs": [
        {
          "data": {
            "text/plain": [
              "((50, 8), (50, 8))"
            ]
          },
          "execution_count": 20,
          "metadata": {},
          "output_type": "execute_result"
        }
      ],
      "source": [
        "X_train[0].shape, X_test[0].shape"
      ]
    },
    {
      "cell_type": "code",
      "execution_count": 21,
      "id": "214c4b41",
      "metadata": {
        "colab": {
          "background_save": true
        },
        "id": "214c4b41",
        "outputId": "29c1c763-b0f8-4e9c-b59e-3bc756c5794b"
      },
      "outputs": [
        {
          "name": "stdout",
          "output_type": "stream",
          "text": [
            "(31998, 50, 8)\n",
            "(31998, 50, 8)\n",
            "(8000, 50, 8)\n",
            "input_shape =  (50, 8)\n"
          ]
        }
      ],
      "source": [
        "#from keras.layers import Input\n",
        "# Check the size of the original array\n",
        "print(X_train.shape)\n",
        "\n",
        "# Reshape the arrays (Needed for 2D)\n",
        "#X_train = X_train.reshape(X_train.shape[0], X_train.shape[1], X_train.shape[2], 1)\n",
        "#X_test = X_test.reshape(X_test.shape[0], X_test.shape[1], X_test.shape[2], 1)\n",
        "\n",
        "# Check the shape of the reshaped arrays\n",
        "print(X_train.shape)\n",
        "print(X_test.shape)\n",
        "\n",
        "\n",
        "input_shape = X_train[0].shape\n",
        "print(\"input_shape = \",input_shape)\n",
        "\n",
        "n_outputs = 2\n",
        "epochSize = 16\n",
        "\n"
      ]
    },
    {
      "attachments": {},
      "cell_type": "markdown",
      "id": "4cdb297d",
      "metadata": {
        "id": "4cdb297d"
      },
      "source": [
        "<h2><b>Propose Model</h2></b>"
      ]
    },
    {
      "cell_type": "code",
      "execution_count": 22,
      "id": "1d722bfb",
      "metadata": {},
      "outputs": [],
      "source": [
        "from tensorflow import keras\n",
        "from keras.layers import Input, Dense, Dropout, LayerNormalization\n",
        "from keras.layers import LSTM, Conv1D, MaxPooling1D, GlobalAveragePooling1D\n",
        "from keras.models import Model\n",
        "\n",
        "def CNN_LSTM(input_shape, n_outputs):\n",
        "    inputs = Input(shape=input_shape)\n",
        "    x = Conv1D(64, kernel_size=3, activation='relu')(inputs)\n",
        "    x = LayerNormalization()(x)\n",
        "    x = MaxPooling1D(2)(x)\n",
        "    x = LSTM(64)(x)\n",
        "    x = Dropout(0.2)(x)\n",
        "    outputs = Dense(n_outputs, activation='softmax')(x)\n",
        "    model = Model(inputs=inputs, outputs=outputs)\n",
        "    return model"
      ]
    },
    {
      "cell_type": "code",
      "execution_count": 23,
      "id": "cf2757f2",
      "metadata": {},
      "outputs": [
        {
          "name": "stderr",
          "output_type": "stream",
          "text": [
            "2023-07-19 10:59:14.128930: I tensorflow/compiler/xla/stream_executor/cuda/cuda_gpu_executor.cc:981] successful NUMA node read from SysFS had negative value (-1), but there must be at least one NUMA node, so returning NUMA node zero\n",
            "2023-07-19 10:59:14.129182: W tensorflow/compiler/xla/stream_executor/platform/default/dso_loader.cc:64] Could not load dynamic library 'libcudart.so.11.0'; dlerror: libcudart.so.11.0: cannot open shared object file: No such file or directory\n",
            "2023-07-19 10:59:14.129273: W tensorflow/compiler/xla/stream_executor/platform/default/dso_loader.cc:64] Could not load dynamic library 'libcublas.so.11'; dlerror: libcublas.so.11: cannot open shared object file: No such file or directory\n",
            "2023-07-19 10:59:14.129342: W tensorflow/compiler/xla/stream_executor/platform/default/dso_loader.cc:64] Could not load dynamic library 'libcublasLt.so.11'; dlerror: libcublasLt.so.11: cannot open shared object file: No such file or directory\n",
            "2023-07-19 10:59:14.129403: W tensorflow/compiler/xla/stream_executor/platform/default/dso_loader.cc:64] Could not load dynamic library 'libcufft.so.10'; dlerror: libcufft.so.10: cannot open shared object file: No such file or directory\n",
            "2023-07-19 10:59:14.129450: W tensorflow/compiler/xla/stream_executor/platform/default/dso_loader.cc:64] Could not load dynamic library 'libcurand.so.10'; dlerror: libcurand.so.10: cannot open shared object file: No such file or directory\n",
            "2023-07-19 10:59:14.129491: W tensorflow/compiler/xla/stream_executor/platform/default/dso_loader.cc:64] Could not load dynamic library 'libcusolver.so.11'; dlerror: libcusolver.so.11: cannot open shared object file: No such file or directory\n",
            "2023-07-19 10:59:14.129533: W tensorflow/compiler/xla/stream_executor/platform/default/dso_loader.cc:64] Could not load dynamic library 'libcusparse.so.11'; dlerror: libcusparse.so.11: cannot open shared object file: No such file or directory\n",
            "2023-07-19 10:59:14.129571: W tensorflow/compiler/xla/stream_executor/platform/default/dso_loader.cc:64] Could not load dynamic library 'libcudnn.so.8'; dlerror: libcudnn.so.8: cannot open shared object file: No such file or directory\n",
            "2023-07-19 10:59:14.129582: W tensorflow/core/common_runtime/gpu/gpu_device.cc:1934] Cannot dlopen some GPU libraries. Please make sure the missing libraries mentioned above are installed properly if you would like to use GPU. Follow the guide at https://www.tensorflow.org/install/gpu for how to download and setup the required libraries for your platform.\n",
            "Skipping registering GPU devices...\n",
            "2023-07-19 10:59:14.129903: I tensorflow/core/platform/cpu_feature_guard.cc:193] This TensorFlow binary is optimized with oneAPI Deep Neural Network Library (oneDNN) to use the following CPU instructions in performance-critical operations:  AVX2 FMA\n",
            "To enable them in other operations, rebuild TensorFlow with the appropriate compiler flags.\n"
          ]
        }
      ],
      "source": [
        "model = CNN_LSTM(input_shape, n_outputs)"
      ]
    },
    {
      "cell_type": "code",
      "execution_count": 24,
      "id": "AgxQT0UdEVeL",
      "metadata": {
        "colab": {
          "background_save": true
        },
        "id": "AgxQT0UdEVeL",
        "outputId": "20b49068-98e5-4ee6-a52f-555aab638076"
      },
      "outputs": [
        {
          "name": "stdout",
          "output_type": "stream",
          "text": [
            "Total model parameters: 34.064453125 K\n",
            "Estimated memory required: 0.13 MB\n"
          ]
        }
      ],
      "source": [
        "# Calculate the total number of parameters\n",
        "total_params = model.count_params()\n",
        "\n",
        "# Convert the total number of parameters to kilobytes (KB)\n",
        "total_params_kb = total_params / 1024  # 1 KB = 1024 bytes\n",
        "\n",
        "print(f\"Total model parameters: {total_params_kb} K\")\n",
        "\n",
        "# Convert the total number of parameters to megabytes (MB)\n",
        "total_memory_mb = total_params * 4 / (1024 * 1024)  # Assuming float32 precision (4 bytes per parameter)\n",
        "\n",
        "\n",
        "print(f\"Estimated memory required: {total_memory_mb:.2f} MB\")\n"
      ]
    },
    {
      "cell_type": "code",
      "execution_count": 25,
      "id": "3b53fc58",
      "metadata": {
        "colab": {
          "background_save": true
        },
        "id": "3b53fc58",
        "outputId": "357b79f9-acbe-442d-b86d-07519ca468fc"
      },
      "outputs": [],
      "source": [
        "#X_train[0].shape"
      ]
    },
    {
      "cell_type": "code",
      "execution_count": 26,
      "id": "k3fLltDZrOFI",
      "metadata": {
        "colab": {
          "background_save": true
        },
        "id": "k3fLltDZrOFI"
      },
      "outputs": [],
      "source": [
        "opt_adam = tf.keras.optimizers.Adam(learning_rate = 0.001)"
      ]
    },
    {
      "cell_type": "code",
      "execution_count": 27,
      "id": "e4b44406",
      "metadata": {
        "colab": {
          "background_save": true
        },
        "id": "e4b44406"
      },
      "outputs": [],
      "source": [
        "model.compile(optimizer=opt_adam, loss = 'sparse_categorical_crossentropy', metrics = ['accuracy'])"
      ]
    },
    {
      "cell_type": "code",
      "execution_count": 28,
      "id": "282fd1fa",
      "metadata": {},
      "outputs": [
        {
          "name": "stdout",
          "output_type": "stream",
          "text": [
            "Fold 1:\n",
            "Epoch 1/16\n",
            "2083/2084 [============================>.] - ETA: 0s - loss: 0.0065 - accuracy: 0.9977\n",
            "Epoch 1: val_accuracy improved from -inf to 0.99985, saving model to /home/bilz/IODNET/models/bd_KIODNet_CL_V1_W_50_F_1.h5\n",
            "2084/2084 [==============================] - 20s 9ms/step - loss: 0.0065 - accuracy: 0.9977 - val_loss: 0.0017 - val_accuracy: 0.9999\n",
            "Epoch 2/16\n",
            "2082/2084 [============================>.] - ETA: 0s - loss: 1.4174e-05 - accuracy: 1.0000\n",
            "Epoch 2: val_accuracy did not improve from 0.99985\n",
            "2084/2084 [==============================] - 19s 9ms/step - loss: 1.4168e-05 - accuracy: 1.0000 - val_loss: 0.0019 - val_accuracy: 0.9999\n",
            "Epoch 3/16\n",
            "2078/2084 [============================>.] - ETA: 0s - loss: 3.2205e-06 - accuracy: 1.0000\n",
            "Epoch 3: val_accuracy did not improve from 0.99985\n",
            "2084/2084 [==============================] - 18s 9ms/step - loss: 3.2159e-06 - accuracy: 1.0000 - val_loss: 0.0020 - val_accuracy: 0.9999\n",
            "Epoch 4/16\n",
            "2078/2084 [============================>.] - ETA: 0s - loss: 1.0205e-06 - accuracy: 1.0000\n",
            "Epoch 4: val_accuracy did not improve from 0.99985\n",
            "2084/2084 [==============================] - 18s 9ms/step - loss: 1.0192e-06 - accuracy: 1.0000 - val_loss: 0.0022 - val_accuracy: 0.9999\n",
            "Epoch 5/16\n",
            "2080/2084 [============================>.] - ETA: 0s - loss: 3.4341e-07 - accuracy: 1.0000\n",
            "Epoch 5: val_accuracy did not improve from 0.99985\n",
            "2084/2084 [==============================] - 18s 9ms/step - loss: 3.4312e-07 - accuracy: 1.0000 - val_loss: 0.0023 - val_accuracy: 0.9999\n",
            "Epoch 6/16\n",
            "2078/2084 [============================>.] - ETA: 0s - loss: 1.1697e-07 - accuracy: 1.0000\n",
            "Epoch 6: val_accuracy did not improve from 0.99985\n",
            "2084/2084 [==============================] - 18s 9ms/step - loss: 1.1691e-07 - accuracy: 1.0000 - val_loss: 0.0025 - val_accuracy: 0.9999\n",
            "Epoch 7/16\n",
            "2078/2084 [============================>.] - ETA: 0s - loss: 3.8580e-08 - accuracy: 1.0000\n",
            "Epoch 7: val_accuracy did not improve from 0.99985\n",
            "2084/2084 [==============================] - 18s 9ms/step - loss: 3.8523e-08 - accuracy: 1.0000 - val_loss: 0.0026 - val_accuracy: 0.9999\n",
            "Epoch 8/16\n",
            "2080/2084 [============================>.] - ETA: 0s - loss: 1.1283e-08 - accuracy: 1.0000\n",
            "Epoch 8: val_accuracy did not improve from 0.99985\n",
            "2084/2084 [==============================] - 18s 9ms/step - loss: 1.1273e-08 - accuracy: 1.0000 - val_loss: 0.0027 - val_accuracy: 0.9999\n",
            "Epoch 9/16\n",
            "2079/2084 [============================>.] - ETA: 0s - loss: 3.5622e-09 - accuracy: 1.0000\n",
            "Epoch 9: val_accuracy did not improve from 0.99985\n",
            "2084/2084 [==============================] - 18s 9ms/step - loss: 3.5622e-09 - accuracy: 1.0000 - val_loss: 0.0029 - val_accuracy: 0.9999\n",
            "Epoch 10/16\n",
            "2081/2084 [============================>.] - ETA: 0s - loss: 1.0096e-09 - accuracy: 1.0000\n",
            "Epoch 10: val_accuracy did not improve from 0.99985\n",
            "2084/2084 [==============================] - 18s 9ms/step - loss: 1.0122e-09 - accuracy: 1.0000 - val_loss: 0.0030 - val_accuracy: 0.9999\n",
            "Epoch 11/16\n",
            "2079/2084 [============================>.] - ETA: 0s - loss: 3.9063e-10 - accuracy: 1.0000\n",
            "Epoch 11: val_accuracy did not improve from 0.99985\n",
            "2084/2084 [==============================] - 18s 9ms/step - loss: 3.8984e-10 - accuracy: 1.0000 - val_loss: 0.0031 - val_accuracy: 0.9999\n",
            "Epoch 12/16\n",
            "2080/2084 [============================>.] - ETA: 0s - loss: 1.7194e-10 - accuracy: 1.0000\n",
            "Epoch 12: val_accuracy did not improve from 0.99985\n",
            "2084/2084 [==============================] - 18s 9ms/step - loss: 1.7167e-10 - accuracy: 1.0000 - val_loss: 0.0032 - val_accuracy: 0.9999\n",
            "Epoch 13/16\n",
            "2078/2084 [============================>.] - ETA: 0s - loss: 7.1709e-11 - accuracy: 1.0000\n",
            "Epoch 13: val_accuracy did not improve from 0.99985\n",
            "2084/2084 [==============================] - 18s 9ms/step - loss: 7.1531e-11 - accuracy: 1.0000 - val_loss: 0.0033 - val_accuracy: 0.9999\n",
            "Epoch 14/16\n",
            "2081/2084 [============================>.] - ETA: 0s - loss: 4.6544e-11 - accuracy: 1.0000\n",
            "Epoch 14: val_accuracy did not improve from 0.99985\n",
            "2084/2084 [==============================] - 18s 9ms/step - loss: 4.6495e-11 - accuracy: 1.0000 - val_loss: 0.0033 - val_accuracy: 0.9999\n",
            "Epoch 15/16\n",
            "2081/2084 [============================>.] - ETA: 0s - loss: 2.8642e-11 - accuracy: 1.0000\n",
            "Epoch 15: val_accuracy did not improve from 0.99985\n",
            "2084/2084 [==============================] - 18s 9ms/step - loss: 2.8612e-11 - accuracy: 1.0000 - val_loss: 0.0034 - val_accuracy: 0.9999\n",
            "Epoch 16/16\n",
            "2081/2084 [============================>.] - ETA: 0s - loss: 2.5062e-11 - accuracy: 1.0000\n",
            "Epoch 16: val_accuracy did not improve from 0.99985\n",
            "2084/2084 [==============================] - 18s 9ms/step - loss: 2.5036e-11 - accuracy: 1.0000 - val_loss: 0.0034 - val_accuracy: 0.9999\n",
            "Fold 2:\n",
            "Epoch 1/16\n",
            "2082/2084 [============================>.] - ETA: 0s - loss: 6.2423e-04 - accuracy: 1.0000\n",
            "Epoch 1: val_accuracy improved from -inf to 0.99985, saving model to /home/bilz/IODNET/models/bd_KIODNet_CL_V1_W_50_F_2.h5\n",
            "2084/2084 [==============================] - 18s 9ms/step - loss: 6.2387e-04 - accuracy: 1.0000 - val_loss: 0.0028 - val_accuracy: 0.9999\n",
            "Epoch 2/16\n",
            "2078/2084 [============================>.] - ETA: 0s - loss: 0.0048 - accuracy: 0.9997\n",
            "Epoch 2: val_accuracy did not improve from 0.99985\n",
            "2084/2084 [==============================] - 18s 9ms/step - loss: 0.0048 - accuracy: 0.9997 - val_loss: 0.0014 - val_accuracy: 0.9999\n",
            "Epoch 3/16\n",
            "2080/2084 [============================>.] - ETA: 0s - loss: 0.0028 - accuracy: 0.9997\n",
            "Epoch 3: val_accuracy did not improve from 0.99985\n",
            "2084/2084 [==============================] - 18s 9ms/step - loss: 0.0028 - accuracy: 0.9997 - val_loss: 0.0010 - val_accuracy: 0.9999\n",
            "Epoch 4/16\n",
            "2081/2084 [============================>.] - ETA: 0s - loss: 7.2747e-04 - accuracy: 0.9999\n",
            "Epoch 4: val_accuracy did not improve from 0.99985\n",
            "2084/2084 [==============================] - 18s 9ms/step - loss: 7.2673e-04 - accuracy: 0.9999 - val_loss: 6.4664e-04 - val_accuracy: 0.9999\n",
            "Epoch 5/16\n",
            "2078/2084 [============================>.] - ETA: 0s - loss: 7.5282e-04 - accuracy: 0.9999\n",
            "Epoch 5: val_accuracy improved from 0.99985 to 1.00000, saving model to /home/bilz/IODNET/models/bd_KIODNet_CL_V1_W_50_F_2.h5\n",
            "2084/2084 [==============================] - 18s 9ms/step - loss: 7.5114e-04 - accuracy: 0.9999 - val_loss: 2.6407e-05 - val_accuracy: 1.0000\n",
            "Epoch 6/16\n",
            "2082/2084 [============================>.] - ETA: 0s - loss: 0.0012 - accuracy: 0.9999\n",
            "Epoch 6: val_accuracy did not improve from 1.00000\n",
            "2084/2084 [==============================] - 18s 9ms/step - loss: 0.0012 - accuracy: 0.9999 - val_loss: 7.1879e-05 - val_accuracy: 1.0000\n",
            "Epoch 7/16\n",
            "2080/2084 [============================>.] - ETA: 0s - loss: 2.3068e-04 - accuracy: 1.0000\n",
            "Epoch 7: val_accuracy did not improve from 1.00000\n",
            "2084/2084 [==============================] - 18s 9ms/step - loss: 2.3034e-04 - accuracy: 1.0000 - val_loss: 5.2211e-06 - val_accuracy: 1.0000\n",
            "Epoch 8/16\n",
            "2082/2084 [============================>.] - ETA: 0s - loss: 0.0019 - accuracy: 0.9998\n",
            "Epoch 8: val_accuracy did not improve from 1.00000\n",
            "2084/2084 [==============================] - 18s 9ms/step - loss: 0.0019 - accuracy: 0.9998 - val_loss: 0.0029 - val_accuracy: 0.9994\n",
            "Epoch 9/16\n",
            "2083/2084 [============================>.] - ETA: 0s - loss: 7.4703e-04 - accuracy: 0.9999\n",
            "Epoch 9: val_accuracy did not improve from 1.00000\n",
            "2084/2084 [==============================] - 18s 9ms/step - loss: 7.4696e-04 - accuracy: 0.9999 - val_loss: 9.0602e-06 - val_accuracy: 1.0000\n",
            "Epoch 10/16\n",
            "2080/2084 [============================>.] - ETA: 0s - loss: 9.2486e-06 - accuracy: 1.0000\n",
            "Epoch 10: val_accuracy did not improve from 1.00000\n",
            "2084/2084 [==============================] - 18s 9ms/step - loss: 9.2384e-06 - accuracy: 1.0000 - val_loss: 1.3053e-06 - val_accuracy: 1.0000\n",
            "Epoch 11/16\n",
            "2080/2084 [============================>.] - ETA: 0s - loss: 2.5774e-06 - accuracy: 1.0000\n",
            "Epoch 11: val_accuracy did not improve from 1.00000\n",
            "2084/2084 [==============================] - 18s 9ms/step - loss: 2.5761e-06 - accuracy: 1.0000 - val_loss: 4.2831e-07 - val_accuracy: 1.0000\n",
            "Epoch 12/16\n",
            "2084/2084 [==============================] - ETA: 0s - loss: 8.9359e-07 - accuracy: 1.0000\n",
            "Epoch 12: val_accuracy did not improve from 1.00000\n",
            "2084/2084 [==============================] - 18s 9ms/step - loss: 8.9359e-07 - accuracy: 1.0000 - val_loss: 1.4133e-07 - val_accuracy: 1.0000\n",
            "Epoch 13/16\n",
            "2080/2084 [============================>.] - ETA: 0s - loss: 3.0233e-07 - accuracy: 1.0000\n",
            "Epoch 13: val_accuracy did not improve from 1.00000\n",
            "2084/2084 [==============================] - 18s 9ms/step - loss: 3.0205e-07 - accuracy: 1.0000 - val_loss: 1.6790e-08 - val_accuracy: 1.0000\n",
            "Epoch 14/16\n",
            "2080/2084 [============================>.] - ETA: 0s - loss: 1.0149e-07 - accuracy: 1.0000\n",
            "Epoch 14: val_accuracy did not improve from 1.00000\n",
            "2084/2084 [==============================] - 18s 9ms/step - loss: 1.0142e-07 - accuracy: 1.0000 - val_loss: 1.7880e-09 - val_accuracy: 1.0000\n",
            "Epoch 15/16\n",
            "2082/2084 [============================>.] - ETA: 0s - loss: 3.7915e-08 - accuracy: 1.0000\n",
            "Epoch 15: val_accuracy did not improve from 1.00000\n",
            "2084/2084 [==============================] - 18s 9ms/step - loss: 3.7904e-08 - accuracy: 1.0000 - val_loss: 1.4304e-10 - val_accuracy: 1.0000\n",
            "Epoch 16/16\n",
            "2082/2084 [============================>.] - ETA: 0s - loss: 1.3362e-08 - accuracy: 1.0000\n",
            "Epoch 16: val_accuracy did not improve from 1.00000\n",
            "2084/2084 [==============================] - 18s 9ms/step - loss: 1.3358e-08 - accuracy: 1.0000 - val_loss: 1.7880e-11 - val_accuracy: 1.0000\n",
            "Fold 3:\n",
            "Epoch 1/16\n",
            "2079/2084 [============================>.] - ETA: 0s - loss: 5.6408e-09 - accuracy: 1.0000\n",
            "Epoch 1: val_accuracy improved from -inf to 1.00000, saving model to /home/bilz/IODNET/models/bd_KIODNet_CL_V1_W_50_F_3.h5\n",
            "2084/2084 [==============================] - 18s 9ms/step - loss: 5.6293e-09 - accuracy: 1.0000 - val_loss: 0.0000e+00 - val_accuracy: 1.0000\n",
            "Epoch 2/16\n",
            "2080/2084 [============================>.] - ETA: 0s - loss: 1.6871e-09 - accuracy: 1.0000\n",
            "Epoch 2: val_accuracy did not improve from 1.00000\n",
            "2084/2084 [==============================] - 18s 9ms/step - loss: 1.6916e-09 - accuracy: 1.0000 - val_loss: 0.0000e+00 - val_accuracy: 1.0000\n",
            "Epoch 3/16\n",
            "2079/2084 [============================>.] - ETA: 0s - loss: 5.7698e-10 - accuracy: 1.0000\n",
            "Epoch 3: val_accuracy did not improve from 1.00000\n",
            "2084/2084 [==============================] - 18s 9ms/step - loss: 5.7938e-10 - accuracy: 1.0000 - val_loss: 0.0000e+00 - val_accuracy: 1.0000\n",
            "Epoch 4/16\n",
            "2081/2084 [============================>.] - ETA: 0s - loss: 4.4396e-10 - accuracy: 1.0000\n",
            "Epoch 4: val_accuracy did not improve from 1.00000\n",
            "2084/2084 [==============================] - 18s 9ms/step - loss: 4.4348e-10 - accuracy: 1.0000 - val_loss: 0.0000e+00 - val_accuracy: 1.0000\n",
            "Epoch 5/16\n",
            "2081/2084 [============================>.] - ETA: 0s - loss: 2.1482e-10 - accuracy: 1.0000\n",
            "Epoch 5: val_accuracy did not improve from 1.00000\n",
            "2084/2084 [==============================] - 18s 9ms/step - loss: 2.1459e-10 - accuracy: 1.0000 - val_loss: 0.0000e+00 - val_accuracy: 1.0000\n",
            "Epoch 6/16\n",
            "2084/2084 [==============================] - ETA: 0s - loss: 1.9313e-10 - accuracy: 1.0000\n",
            "Epoch 6: val_accuracy did not improve from 1.00000\n",
            "2084/2084 [==============================] - 18s 9ms/step - loss: 1.9313e-10 - accuracy: 1.0000 - val_loss: 0.0000e+00 - val_accuracy: 1.0000\n",
            "Epoch 7/16\n",
            "2078/2084 [============================>.] - ETA: 0s - loss: 8.9636e-11 - accuracy: 1.0000\n",
            "Epoch 7: val_accuracy did not improve from 1.00000\n",
            "2084/2084 [==============================] - 18s 9ms/step - loss: 8.9411e-11 - accuracy: 1.0000 - val_loss: 0.0000e+00 - val_accuracy: 1.0000\n",
            "Epoch 8/16\n",
            "2084/2084 [==============================] - ETA: 0s - loss: 4.6493e-11 - accuracy: 1.0000\n",
            "Epoch 8: val_accuracy did not improve from 1.00000\n",
            "2084/2084 [==============================] - 18s 9ms/step - loss: 4.6493e-11 - accuracy: 1.0000 - val_loss: 0.0000e+00 - val_accuracy: 1.0000\n",
            "Epoch 9/16\n",
            "2084/2084 [==============================] - ETA: 0s - loss: 9.6563e-11 - accuracy: 1.0000\n",
            "Epoch 9: val_accuracy did not improve from 1.00000\n",
            "2084/2084 [==============================] - 18s 9ms/step - loss: 9.6563e-11 - accuracy: 1.0000 - val_loss: 0.0000e+00 - val_accuracy: 1.0000\n",
            "Epoch 10/16\n",
            "2083/2084 [============================>.] - ETA: 0s - loss: 7.5114e-11 - accuracy: 1.0000\n",
            "Epoch 10: val_accuracy did not improve from 1.00000\n",
            "2084/2084 [==============================] - 18s 9ms/step - loss: 7.5105e-11 - accuracy: 1.0000 - val_loss: 0.0000e+00 - val_accuracy: 1.0000\n",
            "Epoch 11/16\n",
            "2080/2084 [============================>.] - ETA: 0s - loss: 2.8656e-11 - accuracy: 1.0000\n",
            "Epoch 11: val_accuracy did not improve from 1.00000\n",
            "2084/2084 [==============================] - 18s 9ms/step - loss: 2.8611e-11 - accuracy: 1.0000 - val_loss: 0.0000e+00 - val_accuracy: 1.0000\n",
            "Epoch 12/16\n",
            "2081/2084 [============================>.] - ETA: 0s - loss: 3.2223e-11 - accuracy: 1.0000\n",
            "Epoch 12: val_accuracy did not improve from 1.00000\n",
            "2084/2084 [==============================] - 18s 9ms/step - loss: 3.2188e-11 - accuracy: 1.0000 - val_loss: 0.0000e+00 - val_accuracy: 1.0000\n",
            "Epoch 13/16\n",
            "2083/2084 [============================>.] - ETA: 0s - loss: 4.2922e-11 - accuracy: 1.0000\n",
            "Epoch 13: val_accuracy did not improve from 1.00000\n",
            "2084/2084 [==============================] - 18s 9ms/step - loss: 4.2917e-11 - accuracy: 1.0000 - val_loss: 0.0000e+00 - val_accuracy: 1.0000\n",
            "Epoch 14/16\n",
            "2081/2084 [============================>.] - ETA: 0s - loss: 5.3704e-11 - accuracy: 1.0000\n",
            "Epoch 14: val_accuracy did not improve from 1.00000\n",
            "2084/2084 [==============================] - 18s 9ms/step - loss: 5.3646e-11 - accuracy: 1.0000 - val_loss: 0.0000e+00 - val_accuracy: 1.0000\n",
            "Epoch 15/16\n",
            "2083/2084 [============================>.] - ETA: 0s - loss: 7.1537e-12 - accuracy: 1.0000\n",
            "Epoch 15: val_accuracy did not improve from 1.00000\n",
            "2084/2084 [==============================] - 18s 9ms/step - loss: 7.1528e-12 - accuracy: 1.0000 - val_loss: 0.0000e+00 - val_accuracy: 1.0000\n",
            "Epoch 16/16\n",
            "2084/2084 [==============================] - ETA: 0s - loss: 2.8611e-11 - accuracy: 1.0000\n",
            "Epoch 16: val_accuracy did not improve from 1.00000\n",
            "2084/2084 [==============================] - 18s 9ms/step - loss: 2.8611e-11 - accuracy: 1.0000 - val_loss: 0.0000e+00 - val_accuracy: 1.0000\n",
            "Fold 4:\n",
            "Epoch 1/16\n",
            "2082/2084 [============================>.] - ETA: 0s - loss: 1.7893e-11 - accuracy: 1.0000\n",
            "Epoch 1: val_accuracy improved from -inf to 1.00000, saving model to /home/bilz/IODNET/models/bd_KIODNet_CL_V1_W_50_F_4.h5\n",
            "2084/2084 [==============================] - 18s 9ms/step - loss: 1.7882e-11 - accuracy: 1.0000 - val_loss: 0.0000e+00 - val_accuracy: 1.0000\n",
            "Epoch 2/16\n",
            "2080/2084 [============================>.] - ETA: 0s - loss: 1.0746e-11 - accuracy: 1.0000\n",
            "Epoch 2: val_accuracy did not improve from 1.00000\n",
            "2084/2084 [==============================] - 18s 9ms/step - loss: 1.0729e-11 - accuracy: 1.0000 - val_loss: 0.0000e+00 - val_accuracy: 1.0000\n",
            "Epoch 3/16\n",
            "2080/2084 [============================>.] - ETA: 0s - loss: 2.1492e-11 - accuracy: 1.0000\n",
            "Epoch 3: val_accuracy did not improve from 1.00000\n",
            "2084/2084 [==============================] - 18s 9ms/step - loss: 2.1459e-11 - accuracy: 1.0000 - val_loss: 0.0000e+00 - val_accuracy: 1.0000\n",
            "Epoch 4/16\n",
            "2084/2084 [==============================] - ETA: 0s - loss: 1.4306e-11 - accuracy: 1.0000\n",
            "Epoch 4: val_accuracy did not improve from 1.00000\n",
            "2084/2084 [==============================] - 18s 9ms/step - loss: 1.4306e-11 - accuracy: 1.0000 - val_loss: 0.0000e+00 - val_accuracy: 1.0000\n",
            "Epoch 5/16\n",
            "2078/2084 [============================>.] - ETA: 0s - loss: 7.1709e-12 - accuracy: 1.0000\n",
            "Epoch 5: val_accuracy did not improve from 1.00000\n",
            "2084/2084 [==============================] - 18s 9ms/step - loss: 7.1528e-12 - accuracy: 1.0000 - val_loss: 0.0000e+00 - val_accuracy: 1.0000\n",
            "Epoch 6/16\n",
            "2084/2084 [==============================] - ETA: 0s - loss: 1.0729e-11 - accuracy: 1.0000\n",
            "Epoch 6: val_accuracy did not improve from 1.00000\n",
            "2084/2084 [==============================] - 18s 9ms/step - loss: 1.0729e-11 - accuracy: 1.0000 - val_loss: 0.0000e+00 - val_accuracy: 1.0000\n",
            "Epoch 7/16\n",
            "2079/2084 [============================>.] - ETA: 0s - loss: 1.0751e-11 - accuracy: 1.0000\n",
            "Epoch 7: val_accuracy did not improve from 1.00000\n",
            "2084/2084 [==============================] - 18s 9ms/step - loss: 1.0729e-11 - accuracy: 1.0000 - val_loss: 0.0000e+00 - val_accuracy: 1.0000\n",
            "Epoch 8/16\n",
            "2084/2084 [==============================] - ETA: 0s - loss: 3.5764e-12 - accuracy: 1.0000\n",
            "Epoch 8: val_accuracy did not improve from 1.00000\n",
            "2084/2084 [==============================] - 18s 9ms/step - loss: 3.5764e-12 - accuracy: 1.0000 - val_loss: 0.0000e+00 - val_accuracy: 1.0000\n",
            "Epoch 9/16\n",
            "2081/2084 [============================>.] - ETA: 0s - loss: 7.1606e-12 - accuracy: 1.0000\n",
            "Epoch 9: val_accuracy did not improve from 1.00000\n",
            "2084/2084 [==============================] - 18s 9ms/step - loss: 7.1528e-12 - accuracy: 1.0000 - val_loss: 0.0000e+00 - val_accuracy: 1.0000\n",
            "Epoch 10/16\n",
            "2082/2084 [============================>.] - ETA: 0s - loss: 2.1471e-11 - accuracy: 1.0000\n",
            "Epoch 10: val_accuracy did not improve from 1.00000\n",
            "2084/2084 [==============================] - 18s 9ms/step - loss: 2.1459e-11 - accuracy: 1.0000 - val_loss: 0.0000e+00 - val_accuracy: 1.0000\n",
            "Epoch 11/16\n",
            "2078/2084 [============================>.] - ETA: 0s - loss: 3.5855e-12 - accuracy: 1.0000\n",
            "Epoch 11: val_accuracy did not improve from 1.00000\n",
            "2084/2084 [==============================] - 18s 9ms/step - loss: 3.5764e-12 - accuracy: 1.0000 - val_loss: 0.0000e+00 - val_accuracy: 1.0000\n",
            "Epoch 12/16\n",
            "2083/2084 [============================>.] - ETA: 0s - loss: 7.1537e-12 - accuracy: 1.0000\n",
            "Epoch 12: val_accuracy did not improve from 1.00000\n",
            "2084/2084 [==============================] - 18s 9ms/step - loss: 7.1528e-12 - accuracy: 1.0000 - val_loss: 0.0000e+00 - val_accuracy: 1.0000\n",
            "Epoch 13/16\n",
            "2081/2084 [============================>.] - ETA: 0s - loss: 3.5803e-12 - accuracy: 1.0000\n",
            "Epoch 13: val_accuracy did not improve from 1.00000\n",
            "2084/2084 [==============================] - 18s 9ms/step - loss: 3.5764e-12 - accuracy: 1.0000 - val_loss: 0.0000e+00 - val_accuracy: 1.0000\n",
            "Epoch 14/16\n",
            "2081/2084 [============================>.] - ETA: 0s - loss: 2.5062e-11 - accuracy: 1.0000\n",
            "Epoch 14: val_accuracy did not improve from 1.00000\n",
            "2084/2084 [==============================] - 18s 9ms/step - loss: 2.5035e-11 - accuracy: 1.0000 - val_loss: 0.0000e+00 - val_accuracy: 1.0000\n",
            "Epoch 15/16\n",
            "2081/2084 [============================>.] - ETA: 0s - loss: 7.1606e-12 - accuracy: 1.0000\n",
            "Epoch 15: val_accuracy did not improve from 1.00000\n",
            "2084/2084 [==============================] - 18s 9ms/step - loss: 7.1528e-12 - accuracy: 1.0000 - val_loss: 0.0000e+00 - val_accuracy: 1.0000\n",
            "Epoch 16/16\n",
            "2081/2084 [============================>.] - ETA: 0s - loss: 0.0000e+00 - accuracy: 1.0000\n",
            "Epoch 16: val_accuracy did not improve from 1.00000\n",
            "2084/2084 [==============================] - 18s 9ms/step - loss: 0.0000e+00 - accuracy: 1.0000 - val_loss: 0.0000e+00 - val_accuracy: 1.0000\n",
            "Fold 5:\n",
            "Epoch 1/16\n",
            "2083/2084 [============================>.] - ETA: 0s - loss: 3.5769e-12 - accuracy: 1.0000\n",
            "Epoch 1: val_accuracy improved from -inf to 1.00000, saving model to /home/bilz/IODNET/models/bd_KIODNet_CL_V1_W_50_F_5.h5\n",
            "2084/2084 [==============================] - 18s 9ms/step - loss: 3.5764e-12 - accuracy: 1.0000 - val_loss: 0.0000e+00 - val_accuracy: 1.0000\n",
            "Epoch 2/16\n",
            "2083/2084 [============================>.] - ETA: 0s - loss: 1.0731e-11 - accuracy: 1.0000\n",
            "Epoch 2: val_accuracy did not improve from 1.00000\n",
            "2084/2084 [==============================] - 18s 9ms/step - loss: 1.0729e-11 - accuracy: 1.0000 - val_loss: 0.0000e+00 - val_accuracy: 1.0000\n",
            "Epoch 3/16\n",
            "2084/2084 [==============================] - ETA: 0s - loss: 1.4306e-11 - accuracy: 1.0000\n",
            "Epoch 3: val_accuracy did not improve from 1.00000\n",
            "2084/2084 [==============================] - 18s 9ms/step - loss: 1.4306e-11 - accuracy: 1.0000 - val_loss: 0.0000e+00 - val_accuracy: 1.0000\n",
            "Epoch 4/16\n",
            "2082/2084 [============================>.] - ETA: 0s - loss: 1.0736e-11 - accuracy: 1.0000\n",
            "Epoch 4: val_accuracy did not improve from 1.00000\n",
            "2084/2084 [==============================] - 18s 9ms/step - loss: 1.0729e-11 - accuracy: 1.0000 - val_loss: 0.0000e+00 - val_accuracy: 1.0000\n",
            "Epoch 5/16\n",
            "2084/2084 [==============================] - ETA: 0s - loss: 0.0000e+00 - accuracy: 1.0000\n",
            "Epoch 5: val_accuracy did not improve from 1.00000\n",
            "2084/2084 [==============================] - 18s 9ms/step - loss: 0.0000e+00 - accuracy: 1.0000 - val_loss: 0.0000e+00 - val_accuracy: 1.0000\n",
            "Epoch 6/16\n",
            "2079/2084 [============================>.] - ETA: 0s - loss: 0.0000e+00 - accuracy: 1.0000\n",
            "Epoch 6: val_accuracy did not improve from 1.00000\n",
            "2084/2084 [==============================] - 18s 9ms/step - loss: 0.0000e+00 - accuracy: 1.0000 - val_loss: 0.0000e+00 - val_accuracy: 1.0000\n",
            "Epoch 7/16\n",
            "2081/2084 [============================>.] - ETA: 0s - loss: 3.5803e-12 - accuracy: 1.0000\n",
            "Epoch 7: val_accuracy did not improve from 1.00000\n",
            "2084/2084 [==============================] - 18s 9ms/step - loss: 3.5764e-12 - accuracy: 1.0000 - val_loss: 0.0000e+00 - val_accuracy: 1.0000\n",
            "Epoch 8/16\n",
            "2083/2084 [============================>.] - ETA: 0s - loss: 1.0731e-11 - accuracy: 1.0000\n",
            "Epoch 8: val_accuracy did not improve from 1.00000\n",
            "2084/2084 [==============================] - 18s 9ms/step - loss: 1.0729e-11 - accuracy: 1.0000 - val_loss: 0.0000e+00 - val_accuracy: 1.0000\n",
            "Epoch 9/16\n",
            "2080/2084 [============================>.] - ETA: 0s - loss: 3.5820e-12 - accuracy: 1.0000\n",
            "Epoch 9: val_accuracy did not improve from 1.00000\n",
            "2084/2084 [==============================] - 18s 9ms/step - loss: 3.5764e-12 - accuracy: 1.0000 - val_loss: 0.0000e+00 - val_accuracy: 1.0000\n",
            "Epoch 10/16\n",
            "2078/2084 [============================>.] - ETA: 0s - loss: 0.0000e+00 - accuracy: 1.0000\n",
            "Epoch 10: val_accuracy did not improve from 1.00000\n",
            "2084/2084 [==============================] - 18s 9ms/step - loss: 0.0000e+00 - accuracy: 1.0000 - val_loss: 0.0000e+00 - val_accuracy: 1.0000\n",
            "Epoch 11/16\n",
            "2082/2084 [============================>.] - ETA: 0s - loss: 3.5786e-12 - accuracy: 1.0000\n",
            "Epoch 11: val_accuracy did not improve from 1.00000\n",
            "2084/2084 [==============================] - 18s 9ms/step - loss: 3.5764e-12 - accuracy: 1.0000 - val_loss: 0.0000e+00 - val_accuracy: 1.0000\n",
            "Epoch 12/16\n",
            "2080/2084 [============================>.] - ETA: 0s - loss: 5.7312e-11 - accuracy: 1.0000\n",
            "Epoch 12: val_accuracy did not improve from 1.00000\n",
            "2084/2084 [==============================] - 18s 9ms/step - loss: 5.7223e-11 - accuracy: 1.0000 - val_loss: 0.0000e+00 - val_accuracy: 1.0000\n",
            "Epoch 13/16\n",
            "2081/2084 [============================>.] - ETA: 0s - loss: 0.0000e+00 - accuracy: 1.0000\n",
            "Epoch 13: val_accuracy did not improve from 1.00000\n",
            "2084/2084 [==============================] - 18s 9ms/step - loss: 0.0000e+00 - accuracy: 1.0000 - val_loss: 0.0000e+00 - val_accuracy: 1.0000\n",
            "Epoch 14/16\n",
            "2081/2084 [============================>.] - ETA: 0s - loss: 0.0000e+00 - accuracy: 1.0000\n",
            "Epoch 14: val_accuracy did not improve from 1.00000\n",
            "2084/2084 [==============================] - 18s 9ms/step - loss: 0.0000e+00 - accuracy: 1.0000 - val_loss: 0.0000e+00 - val_accuracy: 1.0000\n",
            "Epoch 15/16\n",
            "2083/2084 [============================>.] - ETA: 0s - loss: 7.1537e-12 - accuracy: 1.0000\n",
            "Epoch 15: val_accuracy did not improve from 1.00000\n",
            "2084/2084 [==============================] - 18s 9ms/step - loss: 7.1528e-12 - accuracy: 1.0000 - val_loss: 0.0000e+00 - val_accuracy: 1.0000\n",
            "Epoch 16/16\n",
            "2080/2084 [============================>.] - ETA: 0s - loss: 0.0000e+00 - accuracy: 1.0000\n",
            "Epoch 16: val_accuracy did not improve from 1.00000\n",
            "2084/2084 [==============================] - 18s 9ms/step - loss: 0.0000e+00 - accuracy: 1.0000 - val_loss: 0.0000e+00 - val_accuracy: 1.0000\n",
            "Fold 6:\n",
            "Epoch 1/16\n",
            "2082/2084 [============================>.] - ETA: 0s - loss: 0.0000e+00 - accuracy: 1.0000\n",
            "Epoch 1: val_accuracy improved from -inf to 1.00000, saving model to /home/bilz/IODNET/models/bd_KIODNet_CL_V1_W_50_F_6.h5\n",
            "2084/2084 [==============================] - 18s 9ms/step - loss: 0.0000e+00 - accuracy: 1.0000 - val_loss: 0.0000e+00 - val_accuracy: 1.0000\n",
            "Epoch 2/16\n",
            "2082/2084 [============================>.] - ETA: 0s - loss: 0.0000e+00 - accuracy: 1.0000\n",
            "Epoch 2: val_accuracy did not improve from 1.00000\n",
            "2084/2084 [==============================] - 18s 9ms/step - loss: 0.0000e+00 - accuracy: 1.0000 - val_loss: 0.0000e+00 - val_accuracy: 1.0000\n",
            "Epoch 3/16\n",
            "2082/2084 [============================>.] - ETA: 0s - loss: 3.5786e-12 - accuracy: 1.0000\n",
            "Epoch 3: val_accuracy did not improve from 1.00000\n",
            "2084/2084 [==============================] - 18s 9ms/step - loss: 3.5764e-12 - accuracy: 1.0000 - val_loss: 0.0000e+00 - val_accuracy: 1.0000\n",
            "Epoch 4/16\n",
            "2082/2084 [============================>.] - ETA: 0s - loss: 3.5786e-12 - accuracy: 1.0000\n",
            "Epoch 4: val_accuracy did not improve from 1.00000\n",
            "2084/2084 [==============================] - 18s 9ms/step - loss: 3.5764e-12 - accuracy: 1.0000 - val_loss: 0.0000e+00 - val_accuracy: 1.0000\n",
            "Epoch 5/16\n",
            "2078/2084 [============================>.] - ETA: 0s - loss: 1.4342e-11 - accuracy: 1.0000\n",
            "Epoch 5: val_accuracy did not improve from 1.00000\n",
            "2084/2084 [==============================] - 18s 9ms/step - loss: 1.4306e-11 - accuracy: 1.0000 - val_loss: 0.0000e+00 - val_accuracy: 1.0000\n",
            "Epoch 6/16\n",
            "2078/2084 [============================>.] - ETA: 0s - loss: 0.0000e+00 - accuracy: 1.0000\n",
            "Epoch 6: val_accuracy did not improve from 1.00000\n",
            "2084/2084 [==============================] - 18s 9ms/step - loss: 0.0000e+00 - accuracy: 1.0000 - val_loss: 0.0000e+00 - val_accuracy: 1.0000\n",
            "Epoch 7/16\n",
            "2079/2084 [============================>.] - ETA: 0s - loss: 0.0000e+00 - accuracy: 1.0000\n",
            "Epoch 7: val_accuracy did not improve from 1.00000\n",
            "2084/2084 [==============================] - 18s 9ms/step - loss: 0.0000e+00 - accuracy: 1.0000 - val_loss: 0.0000e+00 - val_accuracy: 1.0000\n",
            "Epoch 8/16\n",
            "2083/2084 [============================>.] - ETA: 0s - loss: 7.1537e-12 - accuracy: 1.0000\n",
            "Epoch 8: val_accuracy did not improve from 1.00000\n",
            "2084/2084 [==============================] - 18s 9ms/step - loss: 7.1528e-12 - accuracy: 1.0000 - val_loss: 0.0000e+00 - val_accuracy: 1.0000\n",
            "Epoch 9/16\n",
            "2081/2084 [============================>.] - ETA: 0s - loss: 0.0000e+00 - accuracy: 1.0000\n",
            "Epoch 9: val_accuracy did not improve from 1.00000\n",
            "2084/2084 [==============================] - 18s 9ms/step - loss: 0.0000e+00 - accuracy: 1.0000 - val_loss: 0.0000e+00 - val_accuracy: 1.0000\n",
            "Epoch 10/16\n",
            "2080/2084 [============================>.] - ETA: 0s - loss: 0.0000e+00 - accuracy: 1.0000\n",
            "Epoch 10: val_accuracy did not improve from 1.00000\n",
            "2084/2084 [==============================] - 18s 9ms/step - loss: 0.0000e+00 - accuracy: 1.0000 - val_loss: 0.0000e+00 - val_accuracy: 1.0000\n",
            "Epoch 11/16\n",
            "2082/2084 [============================>.] - ETA: 0s - loss: 0.0000e+00 - accuracy: 1.0000\n",
            "Epoch 11: val_accuracy did not improve from 1.00000\n",
            "2084/2084 [==============================] - 18s 9ms/step - loss: 0.0000e+00 - accuracy: 1.0000 - val_loss: 0.0000e+00 - val_accuracy: 1.0000\n",
            "Epoch 12/16\n",
            "2081/2084 [============================>.] - ETA: 0s - loss: 0.0000e+00 - accuracy: 1.0000\n",
            "Epoch 12: val_accuracy did not improve from 1.00000\n",
            "2084/2084 [==============================] - 18s 9ms/step - loss: 0.0000e+00 - accuracy: 1.0000 - val_loss: 0.0000e+00 - val_accuracy: 1.0000\n",
            "Epoch 13/16\n",
            "2081/2084 [============================>.] - ETA: 0s - loss: 0.0000e+00 - accuracy: 1.0000\n",
            "Epoch 13: val_accuracy did not improve from 1.00000\n",
            "2084/2084 [==============================] - 18s 9ms/step - loss: 0.0000e+00 - accuracy: 1.0000 - val_loss: 0.0000e+00 - val_accuracy: 1.0000\n",
            "Epoch 14/16\n",
            "2080/2084 [============================>.] - ETA: 0s - loss: 0.0000e+00 - accuracy: 1.0000\n",
            "Epoch 14: val_accuracy did not improve from 1.00000\n",
            "2084/2084 [==============================] - 18s 9ms/step - loss: 0.0000e+00 - accuracy: 1.0000 - val_loss: 0.0000e+00 - val_accuracy: 1.0000\n",
            "Epoch 15/16\n",
            "2079/2084 [============================>.] - ETA: 0s - loss: 1.4335e-11 - accuracy: 1.0000\n",
            "Epoch 15: val_accuracy did not improve from 1.00000\n",
            "2084/2084 [==============================] - 18s 9ms/step - loss: 1.4306e-11 - accuracy: 1.0000 - val_loss: 0.0000e+00 - val_accuracy: 1.0000\n",
            "Epoch 16/16\n",
            "2082/2084 [============================>.] - ETA: 0s - loss: 3.5786e-12 - accuracy: 1.0000\n",
            "Epoch 16: val_accuracy did not improve from 1.00000\n",
            "2084/2084 [==============================] - 18s 9ms/step - loss: 3.5764e-12 - accuracy: 1.0000 - val_loss: 0.0000e+00 - val_accuracy: 1.0000\n"
          ]
        }
      ],
      "source": [
        "from keras.callbacks import ModelCheckpoint, EarlyStopping\n",
        "\n",
        "# Looping over the folds\n",
        "for fold, (train_index, val_index) in enumerate(kfold.split(X, y)):\n",
        "    print(f\"Fold {fold+1}:\")\n",
        "    \n",
        "    # Get the train and validation sets for this fold\n",
        "    X_train_fold, X_val_fold = X[train_index], X[val_index]\n",
        "    y_train_fold, y_val_fold = y[train_index], y[val_index]\n",
        "    \n",
        "    # Define the filepath for the saved model specific to this fold\n",
        "    filepath = model_Path + f\"bd_KIODNet_CL_V1_W_6_F_{fold+1}.h5\"\n",
        "\n",
        "    # Define early stopping based on validation loss\n",
        "    early_stop = EarlyStopping(monitor='val_loss', patience=10, verbose=1, restore_best_weights=True)\n",
        "        \n",
        "\n",
        "    # Define a checkpoint to monitor the validation accuracy and save the best model\n",
        "    checkpoint = ModelCheckpoint(filepath, monitor='val_accuracy', verbose=1, save_best_only=True, mode='max')\n",
        "    \n",
        "    # Train the model with the checkpoint callback for this fold\n",
        "    history = model.fit(X_train_fold, y_train_fold, epochs=epochSize, batch_size=16, validation_data=(X_val_fold, y_val_fold),\n",
        "                        callbacks=[checkpoint], verbose=1)"
      ]
    },
    {
      "cell_type": "code",
      "execution_count": 29,
      "id": "8fa25f1c",
      "metadata": {},
      "outputs": [
        {
          "name": "stdout",
          "output_type": "stream",
          "text": [
            "fold no  0\n",
            "  1/250 [..............................] - ETA: 1:06 - loss: 2.0560e-05 - accuracy: 1.0000"
          ]
        },
        {
          "name": "stdout",
          "output_type": "stream",
          "text": [
            "250/250 [==============================] - 1s 3ms/step - loss: 2.2972e-05 - accuracy: 1.0000\n",
            "fold no  1\n",
            "250/250 [==============================] - 1s 3ms/step - loss: 0.0014 - accuracy: 0.9999\n",
            "fold no  2\n",
            "250/250 [==============================] - 1s 3ms/step - loss: 0.0000e+00 - accuracy: 1.0000\n",
            "fold no  3\n",
            "250/250 [==============================] - 1s 3ms/step - loss: 0.0000e+00 - accuracy: 1.0000\n",
            "fold no  4\n",
            "250/250 [==============================] - 1s 3ms/step - loss: 0.0000e+00 - accuracy: 1.0000\n",
            "fold no  5\n",
            "250/250 [==============================] - 1s 3ms/step - loss: 0.0000e+00 - accuracy: 1.0000\n"
          ]
        }
      ],
      "source": [
        "import numpy as np\n",
        "from keras.models import load_model\n",
        "\n",
        "\n",
        "\n",
        "# Define the number of folds\n",
        "n_splits = 6\n",
        "\n",
        "# Create an empty list to store the fold models\n",
        "fold_models = []\n",
        "\n",
        "# Loop over the folds to load the saved models\n",
        "for fold in range(n_splits):\n",
        "    # Define the filepath of the saved model for this fold\n",
        "    filepath = model_Path + f\"bd_KIODNet_CL_V1_W_6_F_{fold+1}.h5\"\n",
        "    \n",
        "    # Load the saved model\n",
        "    fold_model = load_model(filepath)\n",
        "\n",
        "    print(\"fold no \",fold)\n",
        "    # Evaluate the model on the test set\n",
        "    test_loss, test_acc = fold_model.evaluate(X_test, y_test, verbose=1)\n",
        "\n",
        "    \n",
        "    # Append the loaded model to the list\n",
        "    fold_models.append(fold_model)\n",
        "\n",
        "# Create a new model with the same architecture as the original model\n",
        "averaged_model = fold_models[0]\n",
        "averaged_weights = averaged_model.get_weights()\n",
        "\n",
        "# Loop over the layers of the models and average the weights\n",
        "for layer in range(len(averaged_weights)):\n",
        "    for fold in range(1, n_splits):\n",
        "        averaged_weights[layer] += fold_models[fold].get_weights()[layer]\n",
        "    \n",
        "    averaged_weights[layer] /= n_splits\n",
        "\n",
        "# Set the averaged weights to the averaged model\n",
        "averaged_model.set_weights(averaged_weights)\n",
        "\n",
        "# Save the averaged model\n",
        "averaged_model.save(model_Path +\"bd_KIODNet_CL_V1_W_6.h5\")\n"
      ]
    },
    {
      "cell_type": "code",
      "execution_count": 30,
      "id": "e7c60dca",
      "metadata": {},
      "outputs": [
        {
          "name": "stdout",
          "output_type": "stream",
          "text": [
            "Fold No: 1\n",
            " 93/250 [==========>...................] - ETA: 0s"
          ]
        },
        {
          "name": "stdout",
          "output_type": "stream",
          "text": [
            "250/250 [==============================] - 1s 3ms/step\n",
            "Test Accuracy: 1.0\n",
            "Test F1-Score: 1.0\n",
            "Fold No: 2\n",
            "250/250 [==============================] - 1s 3ms/step\n",
            "Test Accuracy: 0.999875\n",
            "Test F1-Score: 0.9998749999980469\n",
            "Fold No: 3\n",
            "250/250 [==============================] - 1s 3ms/step\n",
            "Test Accuracy: 1.0\n",
            "Test F1-Score: 1.0\n",
            "Fold No: 4\n",
            "250/250 [==============================] - 1s 3ms/step\n",
            "Test Accuracy: 1.0\n",
            "Test F1-Score: 1.0\n",
            "Fold No: 5\n",
            "250/250 [==============================] - 1s 3ms/step\n",
            "Test Accuracy: 1.0\n",
            "Test F1-Score: 1.0\n",
            "Fold No: 6\n",
            "250/250 [==============================] - 1s 3ms/step\n",
            "Test Accuracy: 1.0\n",
            "Test F1-Score: 1.0\n"
          ]
        }
      ],
      "source": [
        "import numpy as np\n",
        "from keras.models import load_model\n",
        "from sklearn.metrics import accuracy_score, precision_recall_fscore_support\n",
        "\n",
        "# Define the number of folds\n",
        "n_splits = 6\n",
        "\n",
        "# Create empty lists to store the fold models and evaluation results\n",
        "fold_models = []\n",
        "fold_test_acc = []\n",
        "fold_test_f1 = []\n",
        "\n",
        "# Loop over the folds to load the saved models\n",
        "for fold in range(n_splits):\n",
        "    # Define the filepath of the saved model for this fold\n",
        "    filepath = model_Path + f\"bd_KIODNet_CL_V1_W_6_F_{fold+1}.h5\"\n",
        "    \n",
        "    # Load the saved model\n",
        "    fold_model = load_model(filepath)\n",
        "\n",
        "    print(\"Fold No:\", fold+1)\n",
        "    # Evaluate the model on the test set\n",
        "    test_pred = fold_model.predict(X_test)\n",
        "    test_pred_labels = np.argmax(test_pred, axis=1)\n",
        "    \n",
        "    if len(y_test.shape) > 1 and y_test.shape[1] > 1:\n",
        "        test_true_labels = np.argmax(y_test, axis=1)\n",
        "    else:\n",
        "        test_true_labels = y_test\n",
        "    \n",
        "    test_acc = accuracy_score(test_true_labels, test_pred_labels)\n",
        "    test_f1 = f1_score(test_true_labels, test_pred_labels, average='weighted')\n",
        "    print(\"Test Accuracy:\", test_acc)\n",
        "    print(\"Test F1-Score:\", test_f1)\n",
        "    \n",
        "    # Append the loaded model and evaluation results to the lists\n",
        "    fold_models.append(fold_model)\n",
        "    fold_test_acc.append(test_acc)\n",
        "    fold_test_f1.append(test_f1)\n",
        "\n",
        "# Create a new model with the same architecture as the original model\n",
        "averaged_model = fold_models[0]\n",
        "averaged_weights = averaged_model.get_weights()\n",
        "\n",
        "# Loop over the layers of the models and average the weights\n",
        "for layer in range(len(averaged_weights)):\n",
        "    for fold in range(1, n_splits):\n",
        "        averaged_weights[layer] += fold_models[fold].get_weights()[layer]\n",
        "    \n",
        "    averaged_weights[layer] /= n_splits\n",
        "\n",
        "# Set the averaged weights to the averaged model\n",
        "averaged_model.set_weights(averaged_weights)\n",
        "\n",
        "# Save the averaged model\n",
        "averaged_model.save(model_Path +\"bd_KIODNet_CL_V1_W_6.h5\")\n"
      ]
    },
    {
      "cell_type": "code",
      "execution_count": 31,
      "id": "cba47822",
      "metadata": {
        "id": "cba47822"
      },
      "outputs": [
        {
          "name": "stdout",
          "output_type": "stream",
          "text": [
            "Test accuracy: 1.0\n"
          ]
        }
      ],
      "source": [
        "from keras.models import load_model\n",
        "\n",
        "# Load the saved model\n",
        "saved_model = load_model(model_Path + 'bd_KIODNet_CL_V1_W_6.h5')\n",
        "\n",
        "# Evaluate the model on the test set\n",
        "test_loss, test_acc = saved_model.evaluate(X_test, y_test, verbose=0)\n",
        "\n",
        "print('Test accuracy:', test_acc)\n"
      ]
    },
    {
      "cell_type": "code",
      "execution_count": 32,
      "id": "e5cc203b",
      "metadata": {
        "id": "e5cc203b"
      },
      "outputs": [],
      "source": [
        "def plot_learningCurve(history, epochs):\n",
        "  # Plot training & validation accuracy values\n",
        "  epoch_range = range(1, epochs+1)\n",
        "  plt.plot(epoch_range, history.history['accuracy'])\n",
        "  plt.plot(epoch_range, history.history['val_accuracy'])\n",
        "  plt.title('Model accuracy')\n",
        "  plt.ylabel('Accuracy')\n",
        "  plt.xlabel('Epoch')\n",
        "  plt.legend(['Train', 'Val'], loc='upper left')\n",
        "  plt.show()\n",
        "\n",
        "  # Plot training & validation loss values\n",
        "  plt.plot(epoch_range, history.history['loss'])\n",
        "  plt.plot(epoch_range, history.history['val_loss'])\n",
        "  plt.title('Model loss')\n",
        "  plt.ylabel('Loss')\n",
        "  plt.xlabel('Epoch')\n",
        "  plt.legend(['Train', 'Val'], loc='upper left')\n",
        "  plt.show()"
      ]
    },
    {
      "cell_type": "code",
      "execution_count": 33,
      "id": "ab8dab9f",
      "metadata": {
        "id": "ab8dab9f"
      },
      "outputs": [
        {
          "data": {
            "image/png": "[encoded data removed]",
            "text/plain": [
              "<Figure size 1500x800 with 1 Axes>"
            ]
          },
          "metadata": {},
          "output_type": "display_data"
        },
        {
          "data": {
            "image/png": "[encoded data removed]",
            "text/plain": [
              "<Figure size 1500x800 with 1 Axes>"
            ]
          },
          "metadata": {},
          "output_type": "display_data"
        }
      ],
      "source": [
        "plot_learningCurve(history, epochSize)"
      ]
    },
    {
      "attachments": {},
      "cell_type": "markdown",
      "id": "G6pphV7-pWMr",
      "metadata": {
        "id": "G6pphV7-pWMr"
      },
      "source": [
        "<h2><b>Results</b></h2>"
      ]
    },
    {
      "attachments": {},
      "cell_type": "markdown",
      "id": "84ce0075",
      "metadata": {
        "id": "84ce0075"
      },
      "source": [
        "### Confusion Matrix"
      ]
    },
    {
      "cell_type": "code",
      "execution_count": 34,
      "id": "6f1ac122",
      "metadata": {
        "id": "6f1ac122"
      },
      "outputs": [
        {
          "name": "stdout",
          "output_type": "stream",
          "text": [
            "250/250 [==============================] - 1s 3ms/step\n",
            "Prediction time: 1.3704063892364502 seconds\n"
          ]
        },
        {
          "data": {
            "image/png": "[encoded data removed]",
            "text/plain": [
              "<Figure size 1500x800 with 2 Axes>"
            ]
          },
          "metadata": {},
          "output_type": "display_data"
        }
      ],
      "source": [
        "import time\n",
        "class_labels = ['Outdoor', 'Indoor']\n",
        "# Measure the time it takes to predict a single sample\n",
        "start_time = time.time()\n",
        "predict_x=saved_model.predict(X_test)\n",
        "end_time = time.time()\n",
        "\n",
        "# Calculate the prediction time\n",
        "prediction_time = end_time - start_time\n",
        "\n",
        "print('Prediction time:', prediction_time, 'seconds')\n",
        "\n",
        "\n",
        "y_pred=np.argmax(predict_x,axis=1)\n",
        "mat = confusion_matrix(y_test, y_pred)\n",
        "sns.heatmap(mat, xticklabels = class_labels, yticklabels = class_labels, annot = True, linewidths = 0.1, fmt='d', cmap = 'YlGnBu')\n",
        "plt.title(\"Confusion matrix\", fontsize = 15)\n",
        "plt.ylabel('True label')\n",
        "plt.xlabel('Predicted label')\n",
        "plt.show()\n",
        "\n"
      ]
    },
    {
      "attachments": {},
      "cell_type": "markdown",
      "id": "1-qVr31Yv4ZV",
      "metadata": {
        "id": "1-qVr31Yv4ZV"
      },
      "source": [
        "### Classification Report"
      ]
    },
    {
      "cell_type": "code",
      "execution_count": 35,
      "id": "a7df1a17",
      "metadata": {
        "id": "a7df1a17"
      },
      "outputs": [],
      "source": [
        "results = precision_recall_fscore_support(y_test, y_pred, average='macro')"
      ]
    },
    {
      "cell_type": "code",
      "execution_count": 36,
      "id": "fNeii9r7uxc3",
      "metadata": {
        "id": "fNeii9r7uxc3"
      },
      "outputs": [
        {
          "name": "stdout",
          "output_type": "stream",
          "text": [
            "The Testing Accuracy of the model:            100.0 %\n",
            "\n",
            "The Precision of the given model is:   100.0 %\n",
            "\n",
            "The Recall of the given model is:      100.0 %\n",
            "\n",
            "The F1-score of the given model is:    100.0 %\n"
          ]
        }
      ],
      "source": [
        "print(\"The Testing Accuracy of the model:            {} %\".format(accuracy_score(y_test, y_pred)*100))\n",
        "print(f'\\nThe Precision of the given model is:   {results[0]*100} %')\n",
        "print(f'\\nThe Recall of the given model is:      {results[1]*100} %')\n",
        "print(f'\\nThe F1-score of the given model is:    {results[2]*100} %')"
      ]
    },
    {
      "cell_type": "code",
      "execution_count": 37,
      "id": "d50d7f86",
      "metadata": {},
      "outputs": [
        {
          "name": "stdout",
          "output_type": "stream",
          "text": [
            "trainingTestingData.csv\n"
          ]
        }
      ],
      "source": [
        "try:\n",
        "    from google.colab import drive\n",
        "    drive.mount('/content/gdrive')\n",
        "    dataset_Path = '/content/gdrive/MyDrive/Datasets/'\n",
        "    model_Path = '/content/gdrive/MyDrive/models/'\n",
        "except:\n",
        "    dataset_Path = '/home/bilz/IODNET/Datasets/'\n",
        "    model_Path = '/home/bilz/IODNET/models/'\n",
        "\n",
        "\n",
        "DATA_PATH_VAL= dataset_Path + 'validatingData.csv'\n",
        "print(DATA_PATH_VAL)"
      ]
    },
    {
      "attachments": {},
      "cell_type": "markdown",
      "id": "6203edcc",
      "metadata": {},
      "source": [
        "# Load Testing (Validation Dataset)"
      ]
    },
    {
      "cell_type": "code",
      "execution_count": 38,
      "id": "b0227f3d",
      "metadata": {},
      "outputs": [
        {
          "name": "stdout",
          "output_type": "stream",
          "text": [
            "    RSRP  RSRQ  Light        Mag       Acc     Sound  Proximity  Daytime  \\\n",
            "0  -98.0  -5.0    0.0  43.141047  0.861024  57.62903        0.0        0   \n",
            "1 -109.0 -13.0  256.0  62.457436  0.119644  14.75510        5.0        1   \n",
            "2  -97.0 -14.0    0.0  45.754401  0.027471  45.89380        0.0        0   \n",
            "3 -112.0 -17.0    0.0  38.389198  0.009848  27.17500        5.0        0   \n",
            "4 -100.0 -11.0   60.0  36.980915  0.009443  23.45800        5.0        0   \n",
            "\n",
            "   New_Recording   IO  \n",
            "0              0  0.0  \n",
            "1              0  1.0  \n",
            "2              0  1.0  \n",
            "3              0  1.0  \n",
            "4              0  1.0  \n",
            "Shape of the data: (147329, 10)\n",
            "        RSRP  RSRQ  Light        Mag       Acc     Sound  Proximity  Daytime  \\\n",
            "index                                                                          \n",
            "1      -98.0  -5.0    0.0  43.141047  0.861024  57.62903        0.0      0.0   \n",
            "2     -109.0 -13.0  256.0  62.457436  0.119644  14.75510        5.0      1.0   \n",
            "3      -97.0 -14.0    0.0  45.754401  0.027471  45.89380        0.0      0.0   \n",
            "4     -112.0 -17.0    0.0  38.389198  0.009848  27.17500        5.0      0.0   \n",
            "5     -100.0 -11.0   60.0  36.980915  0.009443  23.45800        5.0      0.0   \n",
            "\n",
            "       New_Recording   IO  \n",
            "index                      \n",
            "1                0.0  0.0  \n",
            "2                0.0  1.0  \n",
            "3                0.0  1.0  \n",
            "4                0.0  1.0  \n",
            "5                0.0  1.0  \n"
          ]
        },
        {
          "data": {
            "image/png": "[encoded data removed]",
            "text/plain": [
              "<Figure size 1500x800 with 1 Axes>"
            ]
          },
          "metadata": {},
          "output_type": "display_data"
        },
        {
          "name": "stdout",
          "output_type": "stream",
          "text": [
            "State Count: 0.0    50000\n",
            "1.0    50000\n",
            "Name: IO, dtype: int64\n"
          ]
        },
        {
          "data": {
            "image/png": "[encoded data removed]",
            "text/plain": [
              "<Figure size 1500x800 with 1 Axes>"
            ]
          },
          "metadata": {},
          "output_type": "display_data"
        },
        {
          "data": {
            "text/plain": [
              "((3998, 50, 8), (3998,))"
            ]
          },
          "execution_count": 38,
          "metadata": {},
          "output_type": "execute_result"
        }
      ],
      "source": [
        "import numpy as np\n",
        "import pandas as pd\n",
        "import seaborn as sns\n",
        "import matplotlib.pyplot as plt\n",
        "from sklearn.preprocessing import LabelEncoder, StandardScaler\n",
        "from scipy import stats\n",
        "from sklearn.metrics import precision_recall_fscore_support\n",
        "\n",
        "\n",
        "# load the otesting Data CSV file into a DataFrame\n",
        "df = pd.read_csv(DATA_PATH_VAL)\n",
        "print(df.head())\n",
        "\n",
        "frame_size = windows_Size\n",
        "hop_size = int(frame_size/2) \n",
        "n_features = 8\n",
        "\n",
        "\n",
        "def get_frames(df, frame_size, hop_size, n_features=8):\n",
        "\n",
        "    N_FEATURES = n_features\n",
        "\n",
        "    frames = []\n",
        "    labels = []\n",
        "    for i in range(0, len(df) - frame_size, hop_size):\n",
        "\n",
        "        RSRP = df['RSRP'].values[i: i + frame_size]\n",
        "        RSRQ = df['RSRQ'].values[i: i + frame_size]\n",
        "        Light = df['Light'].values[i: i + frame_size]\n",
        "        Mag = df['Mag'].values[i: i + frame_size]\n",
        "        Acc = df['Acc'].values[i: i + frame_size]\n",
        "        Sound = df['Sound'].values[i: i + frame_size]\n",
        "        Proximity = df['Proximity'].values[i: i + frame_size]\n",
        "        Daytime = df['Daytime'].values[i: i + frame_size]\n",
        "\n",
        "\n",
        "        # Retrieve the most often used label in this segment\n",
        "        label = stats.mode(df['label'][i: i + frame_size])[0][0]\n",
        "        frames.append([RSRP, RSRQ, Light, Mag, Acc, Sound, Proximity, Daytime])\n",
        "        labels.append(label)\n",
        "\n",
        "    # Bring the segments into a better shape\n",
        "    frames = np.asarray(frames).reshape(-1, frame_size, N_FEATURES)\n",
        "    labels = np.asarray(labels)\n",
        "\n",
        "    return frames, labels\n",
        "\n",
        "columns = ['RSRP','RSRQ','Light','Mag','Acc','Sound','Proximity','Daytime','New_Recording','IO']\n",
        "data = pd.DataFrame(data = df, columns = columns)\n",
        "print('Shape of the data:', data.shape)\n",
        "# Converting the string formatted data into float\n",
        "data['RSRP'] = data['RSRP'].astype('float')\n",
        "data['RSRQ'] = data['RSRQ'].astype('float')\n",
        "data['Light'] = data['Light'].astype('float')\n",
        "data['Mag'] = data['Mag'].astype('float')\n",
        "data['Acc'] = data['Acc'].astype('float')\n",
        "data['Sound'] = data['Sound'].astype('float')\n",
        "data['Proximity'] = data['Proximity'].astype('float')\n",
        "data['Daytime'] = data['Daytime'].astype('float')\n",
        "data['New_Recording'] = data['New_Recording'].astype('float')\n",
        "data['IO'] = data['IO'].astype('float')\n",
        "states = data['IO'].value_counts().index\n",
        "\n",
        "data.reset_index(drop=True, inplace=True)\n",
        "data.index = data.index + 1\n",
        "data.index.name = 'index'\n",
        "\n",
        "# load the original CSV file into a DataFrame\n",
        "print(data.head())\n",
        "\n",
        "df['IO'].value_counts()\n",
        "\n",
        "# Analyzing Class Label Distribution\n",
        "sns.set_style('whitegrid')\n",
        "sns.set(rc = {'figure.figsize':(15,8)})\n",
        "sns.countplot(x = 'IO', data = df)\n",
        "plt.title('Training Examples by State Type')\n",
        "plt.show()\n",
        "\n",
        "Outdoor = df[df['IO'] == 0].sample(n=np.random.randint(1000, 4001)).copy()\n",
        "Indoor = df[df['IO'] == 1].sample(n=np.random.randint(1000, 4001)).copy()\n",
        "\n",
        "balanced_data = pd.DataFrame()\n",
        "balanced_data = balanced_data.append([Outdoor, Indoor])\n",
        "balanced_data.shape\n",
        "\n",
        "# Displaying the balanced data\n",
        "print('State Count:',balanced_data['IO'].value_counts())\n",
        "\n",
        "# Analyzing Class Label Distribution\n",
        "sns.set_style('whitegrid')\n",
        "sns.set(rc = {'figure.figsize':(15,8)})\n",
        "sns.countplot(x = 'IO', data = balanced_data)\n",
        "plt.title('Training Examples by State Type')\n",
        "plt.show()\n",
        "\n",
        "# Encoding the Data with suitable labels\n",
        "label = LabelEncoder()\n",
        "balanced_data['label'] = label.fit_transform(balanced_data['IO'])\n",
        "balanced_data.head()\n",
        "\n",
        "X = balanced_data[['RSRP','RSRQ','Light','Mag','Acc','Sound','Proximity','Daytime']]\n",
        "y = balanced_data['label']\n",
        "\n",
        "scaler = StandardScaler()\n",
        "X = scaler.fit_transform(X)\n",
        "\n",
        "scaled_X = pd.DataFrame(data = X, columns = ['RSRP','RSRQ','Light','Mag','Acc','Sound','Proximity','Daytime'])\n",
        "scaled_X['label'] = y.values\n",
        "\n",
        "scaled_X\n",
        "\n",
        "X.shape, y.shape\n",
        "caled_X = scaled_X.replace([np.inf, -np.inf], np.nan)\n",
        "scaled_X = scaled_X.dropna()\n",
        "scaled_X = scaled_X.reset_index(drop=True)\n",
        "X, y = get_frames(scaled_X, frame_size, hop_size)\n",
        "X.shape, y.shape\n",
        "\n"
      ]
    },
    {
      "attachments": {},
      "cell_type": "markdown",
      "id": "pY9yYfkn1GAr",
      "metadata": {
        "id": "pY9yYfkn1GAr"
      },
      "source": [
        "## Load Trained Model"
      ]
    },
    {
      "cell_type": "code",
      "execution_count": 39,
      "id": "vnYyD1-D0PD5",
      "metadata": {
        "id": "vnYyD1-D0PD5"
      },
      "outputs": [
        {
          "name": "stdout",
          "output_type": "stream",
          "text": [
            "125/125 [==============================] - 1s 3ms/step - loss: 2.3854e-10 - accuracy: 1.0000\n",
            "Test accuracy: 1.0\n",
            "125/125 [==============================] - 1s 3ms/step\n",
            "Prediction time: 0.7052974700927734 seconds\n",
            "Precision: 1.0\n",
            "Recall: 1.0\n",
            "F1-score: 1.0\n",
            "Support: None\n"
          ]
        }
      ],
      "source": [
        "from keras.models import load_model\n",
        "import time\n",
        "import numpy as np\n",
        "from sklearn.metrics import precision_recall_fscore_support\n",
        "\n",
        "# Load the saved model\n",
        "trained_model = load_model(model_Path + 'bd_KIODNet_CL_V1_W_6.h5')\n",
        "\n",
        "# Evaluate the model on the test set\n",
        "test_loss, test_acc = trained_model.evaluate(X, y, verbose=1)\n",
        "\n",
        "print('Test accuracy:', test_acc)\n",
        "\n",
        "# Measure the time it takes to predict a single sample\n",
        "start_time = time.time()\n",
        "predict_x = trained_model.predict(X)\n",
        "end_time = time.time()\n",
        "\n",
        "# Calculate the prediction time\n",
        "prediction_time = end_time - start_time\n",
        "\n",
        "print('Prediction time:', prediction_time, 'seconds')\n",
        "\n",
        "# Convert predicted probabilities to class labels\n",
        "predicted_labels = np.argmax(predict_x, axis=1)\n",
        "\n",
        "# Calculate precision, recall, F1-score, and support\n",
        "precision, recall, f1_score, support = precision_recall_fscore_support(y, predicted_labels, average='macro')\n",
        "\n",
        "print('Precision:', precision)\n",
        "print('Recall:', recall)\n",
        "print('F1-score:', f1_score)\n",
        "print('Support:', support)\n"
      ]
    },
    {
      "cell_type": "code",
      "execution_count": 40,
      "id": "a1fb0fd4",
      "metadata": {},
      "outputs": [
        {
          "name": "stdout",
          "output_type": "stream",
          "text": [
            "125/125 [==============================] - 1s 4ms/step - loss: 2.3854e-10 - accuracy: 1.0000\n",
            "Test accuracy: 1.0\n",
            "125/125 [==============================] - 1s 3ms/step\n",
            "Prediction time: 0.6612544059753418 seconds\n",
            "Precision: 1.0\n",
            "Recall: 1.0\n",
            "F1-score: 1.0\n",
            "Support: None\n"
          ]
        },
        {
          "data": {
            "image/png": "[encoded data removed]",
            "text/plain": [
              "<Figure size 1200x1200 with 3 Axes>"
            ]
          },
          "metadata": {},
          "output_type": "display_data"
        }
      ],
      "source": [
        "import time\n",
        "import numpy as np\n",
        "import matplotlib.pyplot as plt\n",
        "from sklearn.metrics import precision_recall_fscore_support\n",
        "from keras.models import load_model\n",
        "\n",
        "# Load the saved model\n",
        "trained_model = load_model(model_Path + 'bd_KIODNet_CL_V1_W_6.h5')\n",
        "\n",
        "# Evaluate the model on the test set\n",
        "test_loss, test_acc = trained_model.evaluate(X, y, verbose=1)\n",
        "print('Test accuracy:', test_acc)\n",
        "\n",
        "# Measure the time it takes to predict a single sample\n",
        "start_time = time.time()\n",
        "predict_x = trained_model.predict(X)\n",
        "end_time = time.time()\n",
        "\n",
        "# Calculate the prediction time\n",
        "prediction_time = end_time - start_time\n",
        "print('Prediction time:', prediction_time, 'seconds')\n",
        "\n",
        "# Convert predicted probabilities to class labels\n",
        "predicted_labels = np.argmax(predict_x, axis=1)\n",
        "\n",
        "# Calculate precision, recall, F1-score, and support\n",
        "precision, recall, f1_score, support = precision_recall_fscore_support(y, predicted_labels, average='macro')\n",
        "print('Precision:', precision)\n",
        "print('Recall:', recall)\n",
        "print('F1-score:', f1_score)\n",
        "print('Support:', support)\n",
        "\n",
        "# Create subplots for the graphs\n",
        "fig, axes = plt.subplots(3, 1, figsize=(12, 12))\n",
        "\n",
        "# Plot predict_x\n",
        "axes[0].plot(predict_x.flatten(), label='predict_x')\n",
        "axes[0].set_ylabel('Value')\n",
        "axes[0].set_title('Predicted Probabilities (predict_x)')\n",
        "\n",
        "# Plot predicted_labels with correct predictions in green and wrong predictions in red\n",
        "for i in range(len(predicted_labels)):\n",
        "    color = 'green' if predicted_labels[i] == y[i] else 'red'\n",
        "    axes[1].scatter(i, predicted_labels[i], c=color, label='predicted_labels')\n",
        "axes[1].set_ylabel('Label')\n",
        "axes[1].set_title('Predicted Labels')\n",
        "\n",
        "# Plot y with correct predictions in green and wrong predictions in red\n",
        "for i in range(len(y)):\n",
        "    color = 'green' if predicted_labels[i] == y[i] else 'red'\n",
        "    axes[2].scatter(i, y[i], c=color, label='y')\n",
        "axes[2].set_xlabel('Sample')\n",
        "axes[2].set_ylabel('Label')\n",
        "axes[2].set_title('True Labels (y)')\n",
        "\n",
        "# Adjust spacing between subplots\n",
        "plt.tight_layout()\n",
        "\n",
        "# Show the plots\n",
        "plt.show()\n"
      ]
    },
    {
      "cell_type": "code",
      "execution_count": 41,
      "id": "22ac251a",
      "metadata": {},
      "outputs": [
        {
          "name": "stdout",
          "output_type": "stream",
          "text": [
            "125/125 [==============================] - 1s 3ms/step - loss: 2.3854e-10 - accuracy: 1.0000\n",
            "Test accuracy: 1.0\n",
            "125/125 [==============================] - 1s 3ms/step\n",
            "Prediction time: 0.6556358337402344 seconds\n",
            "Precision: 1.0\n",
            "Recall: 1.0\n",
            "F1-score: 1.0\n",
            "Support: None\n"
          ]
        },
        {
          "data": {
            "image/png": "[encoded data removed]",
            "text/plain": [
              "<Figure size 1200x1200 with 3 Axes>"
            ]
          },
          "metadata": {},
          "output_type": "display_data"
        }
      ],
      "source": [
        "import time\n",
        "import numpy as np\n",
        "import matplotlib.pyplot as plt\n",
        "from sklearn.metrics import precision_recall_fscore_support\n",
        "from keras.models import load_model\n",
        "\n",
        "# Load the saved model\n",
        "trained_model = load_model(model_Path + 'bd_KIODNet_CL_V1_W_6.h5')\n",
        "\n",
        "# Randomize the samples\n",
        "random_indices = np.random.permutation(len(X))\n",
        "X_randomized = X[random_indices]\n",
        "y_randomized = y[random_indices]\n",
        "\n",
        "# Evaluate the model on the test set\n",
        "test_loss, test_acc = trained_model.evaluate(X_randomized, y_randomized, verbose=1)\n",
        "print('Test accuracy:', test_acc)\n",
        "\n",
        "# Measure the time it takes to predict a single sample\n",
        "start_time = time.time()\n",
        "predict_x = trained_model.predict(X_randomized)\n",
        "end_time = time.time()\n",
        "\n",
        "# Calculate the prediction time\n",
        "prediction_time = end_time - start_time\n",
        "print('Prediction time:', prediction_time, 'seconds')\n",
        "\n",
        "# Convert predicted probabilities to class labels\n",
        "predicted_labels = np.argmax(predict_x, axis=1)\n",
        "\n",
        "# Calculate precision, recall, F1-score, and support\n",
        "precision, recall, f1_score, support = precision_recall_fscore_support(y_randomized, predicted_labels, average='macro')\n",
        "print('Precision:', precision)\n",
        "print('Recall:', recall)\n",
        "print('F1-score:', f1_score)\n",
        "print('Support:', support)\n",
        "\n",
        "# Create subplots for the graphs\n",
        "fig, axes = plt.subplots(3, 1, figsize=(12, 12))\n",
        "\n",
        "# Plot predict_x\n",
        "axes[0].plot(predict_x.flatten(), label='predict_x')\n",
        "axes[0].set_ylabel('Value')\n",
        "axes[0].set_title('Predicted Probabilities (predict_x)')\n",
        "\n",
        "# Plot predicted_labels with correct predictions in green and wrong predictions in red\n",
        "for i in range(len(predicted_labels)):\n",
        "    color = 'green' if predicted_labels[i] == y_randomized[i] else 'red'\n",
        "    axes[1].plot([i, i], [predicted_labels[i], y_randomized[i]], c=color)\n",
        "    axes[1].text(i, predicted_labels[i], f'Sample {i}', ha='center', va='bottom', color=color)\n",
        "axes[1].set_ylabel('Label')\n",
        "axes[1].set_title('Predicted Labels')\n",
        "\n",
        "# Plot y with correct predictions in green and wrong predictions in red\n",
        "for i in range(len(y_randomized)):\n",
        "    color = 'indigo' if y_randomized[i] == 1 else 'orange'\n",
        "    #color = 'green' if predicted_labels[i] == y_randomized[i] else 'red'\n",
        "    axes[2].plot([i, i], [y_randomized[i], y_randomized[i]], c=color)\n",
        "    axes[2].text(i, y_randomized[i], f'Sample {i}', ha='center', va='bottom', color=color)\n",
        "axes[2].set_xlabel('Sample')\n",
        "axes[2].set_ylabel('Label')\n",
        "axes[2].set_title('True Labels (y)')\n",
        "\n",
        "# Adjust spacing between subplots\n",
        "plt.tight_layout()\n",
        "\n",
        "# Show the plots\n",
        "plt.show()\n"
      ]
    },
    {
      "cell_type": "code",
      "execution_count": 42,
      "id": "c7042887",
      "metadata": {},
      "outputs": [
        {
          "name": "stdout",
          "output_type": "stream",
          "text": [
            "Singe Prediction Time:  1.2584181069870142 ms\n"
          ]
        }
      ],
      "source": [
        "steps = 521\n",
        "print(\"Singe Prediction Time: \", float(prediction_time/steps)*1000, 'ms')"
      ]
    },
    {
      "attachments": {},
      "cell_type": "markdown",
      "id": "jZJxE1Yu0QJq",
      "metadata": {
        "id": "jZJxE1Yu0QJq"
      },
      "source": [
        "# Convert Trained Model to Lite Version"
      ]
    },
    {
      "cell_type": "code",
      "execution_count": 43,
      "id": "8hoJMMF_0PRa",
      "metadata": {
        "id": "8hoJMMF_0PRa"
      },
      "outputs": [
        {
          "name": "stderr",
          "output_type": "stream",
          "text": [
            "WARNING:absl:Found untraced functions such as _jit_compiled_convolution_op, _update_step_xla, lstm_cell_16_layer_call_fn, lstm_cell_16_layer_call_and_return_conditional_losses while saving (showing 4 of 4). These functions will not be directly callable after loading.\n"
          ]
        },
        {
          "name": "stdout",
          "output_type": "stream",
          "text": [
            "INFO:tensorflow:Assets written to: /tmp/tmpcywe_s66/assets\n"
          ]
        },
        {
          "name": "stderr",
          "output_type": "stream",
          "text": [
            "INFO:tensorflow:Assets written to: /tmp/tmpcywe_s66/assets\n",
            "2023-07-19 11:29:46.082388: W tensorflow/compiler/mlir/lite/python/tf_tfl_flatbuffer_helpers.cc:362] Ignored output_format.\n",
            "2023-07-19 11:29:46.082420: W tensorflow/compiler/mlir/lite/python/tf_tfl_flatbuffer_helpers.cc:365] Ignored drop_control_dependency.\n",
            "2023-07-19 11:29:46.082821: I tensorflow/cc/saved_model/reader.cc:45] Reading SavedModel from: /tmp/tmpcywe_s66\n",
            "2023-07-19 11:29:46.087605: I tensorflow/cc/saved_model/reader.cc:89] Reading meta graph with tags { serve }\n",
            "2023-07-19 11:29:46.087619: I tensorflow/cc/saved_model/reader.cc:130] Reading SavedModel debug info (if present) from: /tmp/tmpcywe_s66\n",
            "2023-07-19 11:29:46.102423: I tensorflow/compiler/mlir/mlir_graph_optimization_pass.cc:357] MLIR V1 optimization pass is not enabled\n",
            "2023-07-19 11:29:46.105646: I tensorflow/cc/saved_model/loader.cc:229] Restoring SavedModel bundle.\n",
            "2023-07-19 11:29:46.149249: I tensorflow/cc/saved_model/loader.cc:213] Running initialization op on SavedModel bundle at path: /tmp/tmpcywe_s66\n",
            "2023-07-19 11:29:46.172829: I tensorflow/cc/saved_model/loader.cc:305] SavedModel load for tags { serve }; Status: success: OK. Took 90008 microseconds.\n",
            "2023-07-19 11:29:46.239855: I tensorflow/compiler/mlir/tensorflow/utils/dump_mlir_util.cc:268] disabling MLIR crash reproducer, set env var `MLIR_CRASH_REPRODUCER_DIRECTORY` to enable.\n",
            "loc(callsite(callsite(callsite(fused[\"TensorListReserve:\", callsite(\"TensorArrayV2_1@__inference_standard_lstm_1020567\"(\"/home/bilz/anaconda3/envs/kt/lib/python3.10/site-packages/tensorflow/python/saved_model/save.py\":1267:0) at callsite(\"/home/bilz/anaconda3/envs/kt/lib/python3.10/site-packages/tensorflow/python/saved_model/save.py\":1231:0 at callsite(\"/home/bilz/anaconda3/envs/kt/lib/python3.10/site-packages/tensorflow/lite/python/lite.py\":1252:0 at callsite(\"/home/bilz/anaconda3/envs/kt/lib/python3.10/site-packages/tensorflow/lite/python/convert_phase.py\":205:0 at callsite(\"/home/bilz/anaconda3/envs/kt/lib/python3.10/site-packages/tensorflow/lite/python/lite.py\":1322:0 at callsite(\"/home/bilz/anaconda3/envs/kt/lib/python3.10/site-packages/tensorflow/lite/python/lite.py\":1342:0 at callsite(\"/home/bilz/anaconda3/envs/kt/lib/python3.10/site-packages/tensorflow/lite/python/lite.py\":911:0 at callsite(\"/home/bilz/anaconda3/envs/kt/lib/python3.10/site-packages/tensorflow/lite/python/lite.py\":933:0 at callsite(\"/tmp/ipykernel_87862/1592653061.py\":6:0 at \"/home/bilz/anaconda3/envs/kt/lib/python3.10/site-packages/IPython/core/interactiveshell.py\":3433:0)))))))))] at fused[\"PartitionedCall:\", callsite(\"model/lstm/PartitionedCall@__inference__wrapped_model_1020848\"(\"/home/bilz/anaconda3/envs/kt/lib/python3.10/site-packages/tensorflow/python/saved_model/save.py\":1267:0) at callsite(\"/home/bilz/anaconda3/envs/kt/lib/python3.10/site-packages/tensorflow/python/saved_model/save.py\":1231:0 at callsite(\"/home/bilz/anaconda3/envs/kt/lib/python3.10/site-packages/tensorflow/lite/python/lite.py\":1252:0 at callsite(\"/home/bilz/anaconda3/envs/kt/lib/python3.10/site-packages/tensorflow/lite/python/convert_phase.py\":205:0 at callsite(\"/home/bilz/anaconda3/envs/kt/lib/python3.10/site-packages/tensorflow/lite/python/lite.py\":1322:0 at callsite(\"/home/bilz/anaconda3/envs/kt/lib/python3.10/site-packages/tensorflow/lite/python/lite.py\":1342:0 at callsite(\"/home/bilz/anaconda3/envs/kt/lib/python3.10/site-packages/tensorflow/lite/python/lite.py\":911:0 at callsite(\"/home/bilz/anaconda3/envs/kt/lib/python3.10/site-packages/tensorflow/lite/python/lite.py\":933:0 at callsite(\"/tmp/ipykernel_87862/1592653061.py\":6:0 at \"/home/bilz/anaconda3/envs/kt/lib/python3.10/site-packages/IPython/core/interactiveshell.py\":3433:0)))))))))]) at fused[\"StatefulPartitionedCall:\", callsite(\"StatefulPartitionedCall@__inference_signature_wrapper_1022994\"(\"/home/bilz/anaconda3/envs/kt/lib/python3.10/site-packages/tensorflow/python/saved_model/save.py\":1267:0) at callsite(\"/home/bilz/anaconda3/envs/kt/lib/python3.10/site-packages/tensorflow/python/saved_model/save.py\":1231:0 at callsite(\"/home/bilz/anaconda3/envs/kt/lib/python3.10/site-packages/tensorflow/lite/python/lite.py\":1252:0 at callsite(\"/home/bilz/anaconda3/envs/kt/lib/python3.10/site-packages/tensorflow/lite/python/convert_phase.py\":205:0 at callsite(\"/home/bilz/anaconda3/envs/kt/lib/python3.10/site-packages/tensorflow/lite/python/lite.py\":1322:0 at callsite(\"/home/bilz/anaconda3/envs/kt/lib/python3.10/site-packages/tensorflow/lite/python/lite.py\":1342:0 at callsite(\"/home/bilz/anaconda3/envs/kt/lib/python3.10/site-packages/tensorflow/lite/python/lite.py\":911:0 at callsite(\"/home/bilz/anaconda3/envs/kt/lib/python3.10/site-packages/tensorflow/lite/python/lite.py\":933:0 at callsite(\"/tmp/ipykernel_87862/1592653061.py\":6:0 at \"/home/bilz/anaconda3/envs/kt/lib/python3.10/site-packages/IPython/core/interactiveshell.py\":3433:0)))))))))]) at fused[\"StatefulPartitionedCall:\", \"StatefulPartitionedCall\"])): error: 'tf.TensorListReserve' op requires element_shape to be static during TF Lite transformation pass\n",
            "loc(callsite(callsite(callsite(fused[\"TensorListReserve:\", callsite(\"TensorArrayV2_1@__inference_standard_lstm_1020567\"(\"/home/bilz/anaconda3/envs/kt/lib/python3.10/site-packages/tensorflow/python/saved_model/save.py\":1267:0) at callsite(\"/home/bilz/anaconda3/envs/kt/lib/python3.10/site-packages/tensorflow/python/saved_model/save.py\":1231:0 at callsite(\"/home/bilz/anaconda3/envs/kt/lib/python3.10/site-packages/tensorflow/lite/python/lite.py\":1252:0 at callsite(\"/home/bilz/anaconda3/envs/kt/lib/python3.10/site-packages/tensorflow/lite/python/convert_phase.py\":205:0 at callsite(\"/home/bilz/anaconda3/envs/kt/lib/python3.10/site-packages/tensorflow/lite/python/lite.py\":1322:0 at callsite(\"/home/bilz/anaconda3/envs/kt/lib/python3.10/site-packages/tensorflow/lite/python/lite.py\":1342:0 at callsite(\"/home/bilz/anaconda3/envs/kt/lib/python3.10/site-packages/tensorflow/lite/python/lite.py\":911:0 at callsite(\"/home/bilz/anaconda3/envs/kt/lib/python3.10/site-packages/tensorflow/lite/python/lite.py\":933:0 at callsite(\"/tmp/ipykernel_87862/1592653061.py\":6:0 at \"/home/bilz/anaconda3/envs/kt/lib/python3.10/site-packages/IPython/core/interactiveshell.py\":3433:0)))))))))] at fused[\"PartitionedCall:\", callsite(\"model/lstm/PartitionedCall@__inference__wrapped_model_1020848\"(\"/home/bilz/anaconda3/envs/kt/lib/python3.10/site-packages/tensorflow/python/saved_model/save.py\":1267:0) at callsite(\"/home/bilz/anaconda3/envs/kt/lib/python3.10/site-packages/tensorflow/python/saved_model/save.py\":1231:0 at callsite(\"/home/bilz/anaconda3/envs/kt/lib/python3.10/site-packages/tensorflow/lite/python/lite.py\":1252:0 at callsite(\"/home/bilz/anaconda3/envs/kt/lib/python3.10/site-packages/tensorflow/lite/python/convert_phase.py\":205:0 at callsite(\"/home/bilz/anaconda3/envs/kt/lib/python3.10/site-packages/tensorflow/lite/python/lite.py\":1322:0 at callsite(\"/home/bilz/anaconda3/envs/kt/lib/python3.10/site-packages/tensorflow/lite/python/lite.py\":1342:0 at callsite(\"/home/bilz/anaconda3/envs/kt/lib/python3.10/site-packages/tensorflow/lite/python/lite.py\":911:0 at callsite(\"/home/bilz/anaconda3/envs/kt/lib/python3.10/site-packages/tensorflow/lite/python/lite.py\":933:0 at callsite(\"/tmp/ipykernel_87862/1592653061.py\":6:0 at \"/home/bilz/anaconda3/envs/kt/lib/python3.10/site-packages/IPython/core/interactiveshell.py\":3433:0)))))))))]) at fused[\"StatefulPartitionedCall:\", callsite(\"StatefulPartitionedCall@__inference_signature_wrapper_1022994\"(\"/home/bilz/anaconda3/envs/kt/lib/python3.10/site-packages/tensorflow/python/saved_model/save.py\":1267:0) at callsite(\"/home/bilz/anaconda3/envs/kt/lib/python3.10/site-packages/tensorflow/python/saved_model/save.py\":1231:0 at callsite(\"/home/bilz/anaconda3/envs/kt/lib/python3.10/site-packages/tensorflow/lite/python/lite.py\":1252:0 at callsite(\"/home/bilz/anaconda3/envs/kt/lib/python3.10/site-packages/tensorflow/lite/python/convert_phase.py\":205:0 at callsite(\"/home/bilz/anaconda3/envs/kt/lib/python3.10/site-packages/tensorflow/lite/python/lite.py\":1322:0 at callsite(\"/home/bilz/anaconda3/envs/kt/lib/python3.10/site-packages/tensorflow/lite/python/lite.py\":1342:0 at callsite(\"/home/bilz/anaconda3/envs/kt/lib/python3.10/site-packages/tensorflow/lite/python/lite.py\":911:0 at callsite(\"/home/bilz/anaconda3/envs/kt/lib/python3.10/site-packages/tensorflow/lite/python/lite.py\":933:0 at callsite(\"/tmp/ipykernel_87862/1592653061.py\":6:0 at \"/home/bilz/anaconda3/envs/kt/lib/python3.10/site-packages/IPython/core/interactiveshell.py\":3433:0)))))))))]) at fused[\"StatefulPartitionedCall:\", \"StatefulPartitionedCall\"])): error: failed to legalize operation 'tf.TensorListReserve' that was explicitly marked illegal\n",
            "error: Lowering tensor list ops is failed. Please consider using Select TF ops and disabling `_experimental_lower_tensor_list_ops` flag in the TFLite converter object. For example, converter.target_spec.supported_ops = [tf.lite.OpsSet.TFLITE_BUILTINS, tf.lite.OpsSet.SELECT_TF_OPS]\\n converter._experimental_lower_tensor_list_ops = False\n",
            "WARNING:absl:Found untraced functions such as _jit_compiled_convolution_op, _update_step_xla, lstm_cell_16_layer_call_fn, lstm_cell_16_layer_call_and_return_conditional_losses while saving (showing 4 of 4). These functions will not be directly callable after loading.\n"
          ]
        },
        {
          "name": "stdout",
          "output_type": "stream",
          "text": [
            "INFO:tensorflow:Assets written to: /tmp/tmpd60kfnj6/assets\n"
          ]
        },
        {
          "name": "stderr",
          "output_type": "stream",
          "text": [
            "INFO:tensorflow:Assets written to: /tmp/tmpd60kfnj6/assets\n"
          ]
        },
        {
          "name": "stderr",
          "output_type": "stream",
          "text": [
            "2023-07-19 11:29:49.336391: W tensorflow/compiler/mlir/lite/python/tf_tfl_flatbuffer_helpers.cc:362] Ignored output_format.\n",
            "2023-07-19 11:29:49.336423: W tensorflow/compiler/mlir/lite/python/tf_tfl_flatbuffer_helpers.cc:365] Ignored drop_control_dependency.\n",
            "2023-07-19 11:29:49.336536: I tensorflow/cc/saved_model/reader.cc:45] Reading SavedModel from: /tmp/tmpd60kfnj6\n",
            "2023-07-19 11:29:49.341333: I tensorflow/cc/saved_model/reader.cc:89] Reading meta graph with tags { serve }\n",
            "2023-07-19 11:29:49.341348: I tensorflow/cc/saved_model/reader.cc:130] Reading SavedModel debug info (if present) from: /tmp/tmpd60kfnj6\n",
            "2023-07-19 11:29:49.362006: I tensorflow/cc/saved_model/loader.cc:229] Restoring SavedModel bundle.\n",
            "2023-07-19 11:29:49.406419: I tensorflow/cc/saved_model/loader.cc:213] Running initialization op on SavedModel bundle at path: /tmp/tmpd60kfnj6\n",
            "2023-07-19 11:29:49.429156: I tensorflow/cc/saved_model/loader.cc:305] SavedModel load for tags { serve }; Status: success: OK. Took 92619 microseconds.\n",
            "2023-07-19 11:29:49.587852: W tensorflow/compiler/mlir/lite/flatbuffer_export.cc:2046] TFLite interpreter needs to link Flex delegate in order to run the model since it contains the following Select TFop(s):\n",
            "Flex ops: FlexTensorListReserve, FlexTensorListSetItem, FlexTensorListStack\n",
            "Details:\n",
            "\ttf.TensorListReserve(tensor<2xi32>, tensor<i32>) -> (tensor<!tf_type.variant<tensor<?x64xf32>>>) : {device = \"\"}\n",
            "\ttf.TensorListSetItem(tensor<!tf_type.variant<tensor<?x64xf32>>>, tensor<i32>, tensor<?x64xf32>) -> (tensor<!tf_type.variant<tensor<?x64xf32>>>) : {device = \"\"}\n",
            "\ttf.TensorListStack(tensor<!tf_type.variant<tensor<?x64xf32>>>, tensor<2xi32>) -> (tensor<1x?x64xf32>) : {device = \"\", num_elements = 1 : i64}\n",
            "See instructions: https://www.tensorflow.org/lite/guide/ops_select\n"
          ]
        }
      ],
      "source": [
        "import tensorflow\n",
        "\n",
        "converter = tensorflow.lite.TFLiteConverter.from_keras_model(trained_model)\n",
        "try:\n",
        "    # Convert the model to a TFLite model    \n",
        "    tflite_model = converter.convert()\n",
        "except:\n",
        "    # Convert the model to a TFLite model with optimization options and Select TF ops\n",
        "    converter.optimizations = [tf.lite.Optimize.DEFAULT]\n",
        "    converter.target_spec.supported_ops = [tf.lite.OpsSet.TFLITE_BUILTINS, tf.lite.OpsSet.SELECT_TF_OPS]\n",
        "    converter._experimental_lower_tensor_list_ops = False\n",
        "    tflite_model = converter.convert()\n",
        "\n"
      ]
    },
    {
      "attachments": {},
      "cell_type": "markdown",
      "id": "P76ziTv51cxE",
      "metadata": {
        "id": "P76ziTv51cxE"
      },
      "source": [
        "## Save Lite Version of Trained Model"
      ]
    },
    {
      "cell_type": "code",
      "execution_count": 44,
      "id": "VtgCQvl90PX7",
      "metadata": {
        "id": "VtgCQvl90PX7"
      },
      "outputs": [
        {
          "name": "stdout",
          "output_type": "stream",
          "text": [
            "Lite Version of Trained Model saved and loaded successfully !!!\n"
          ]
        },
        {
          "name": "stderr",
          "output_type": "stream",
          "text": [
            "INFO: Created TensorFlow Lite delegate for select TF ops.\n",
            "2023-07-19 11:29:49.653453: I tensorflow/compiler/xla/stream_executor/cuda/cuda_gpu_executor.cc:981] successful NUMA node read from SysFS had negative value (-1), but there must be at least one NUMA node, so returning NUMA node zero\n",
            "2023-07-19 11:29:49.653581: W tensorflow/core/common_runtime/gpu/gpu_device.cc:1934] Cannot dlopen some GPU libraries. Please make sure the missing libraries mentioned above are installed properly if you would like to use GPU. Follow the guide at https://www.tensorflow.org/install/gpu for how to download and setup the required libraries for your platform.\n",
            "Skipping registering GPU devices...\n",
            "INFO: TfLiteFlexDelegate delegate: 2 nodes delegated out of 42 nodes with 2 partitions.\n",
            "\n"
          ]
        }
      ],
      "source": [
        "# Save the TFLite model to a file\n",
        "with open(model_Path + 'bd_KIODNet_CL_V1_W_6.tflite', 'wb') as f:\n",
        "    f.write(tflite_model)\n",
        "\n",
        "try:\n",
        "    # load the model from a file\n",
        "    test_load_lite_model = tf.lite.Interpreter(model_Path + 'bd_KIODNet_CL_V1_W_6.tflite')\n",
        "    print(\"Lite Version of Trained Model saved and loaded successfully !!!\")\n",
        "\n",
        "except:\n",
        "    print(\"Lite Version of Trained Model is not saved successfully !!!\")"
      ]
    },
    {
      "attachments": {},
      "cell_type": "markdown",
      "id": "gue941ZV2HPx",
      "metadata": {
        "id": "gue941ZV2HPx"
      },
      "source": [
        "## Load Lite Version of Trained Model"
      ]
    },
    {
      "cell_type": "code",
      "execution_count": 45,
      "id": "zEduP3aL1baA",
      "metadata": {
        "id": "zEduP3aL1baA"
      },
      "outputs": [
        {
          "name": "stdout",
          "output_type": "stream",
          "text": [
            "Input shape: [ 1 50  8]\n",
            "Input type: <class 'numpy.float32'>\n",
            "Output shape: [1 2]\n",
            "Output type: <class 'numpy.float32'>\n"
          ]
        },
        {
          "name": "stderr",
          "output_type": "stream",
          "text": [
            "2023-07-19 11:29:49.725785: I tensorflow/compiler/xla/stream_executor/cuda/cuda_gpu_executor.cc:981] successful NUMA node read from SysFS had negative value (-1), but there must be at least one NUMA node, so returning NUMA node zero\n",
            "2023-07-19 11:29:49.725939: W tensorflow/core/common_runtime/gpu/gpu_device.cc:1934] Cannot dlopen some GPU libraries. Please make sure the missing libraries mentioned above are installed properly if you would like to use GPU. Follow the guide at https://www.tensorflow.org/install/gpu for how to download and setup the required libraries for your platform.\n",
            "Skipping registering GPU devices...\n",
            "INFO: Created TensorFlow Lite XNNPACK delegate for CPU.\n"
          ]
        }
      ],
      "source": [
        "import tensorflow as tf\n",
        "\n",
        "# Load the TensorFlow Lite model.\n",
        "trained_Model_Lite_Path = model_Path + 'bd_KIODNet_CL_V1_W_6.tflite'\n",
        "interpreter = tf.lite.Interpreter(model_path=trained_Model_Lite_Path)\n",
        "interpreter.allocate_tensors()\n",
        "\n",
        "# Get input and output details.\n",
        "input_details = interpreter.get_input_details()\n",
        "output_details = interpreter.get_output_details()\n",
        "\n",
        "# Print model summary.\n",
        "print('Input shape:', input_details[0]['shape'])\n",
        "print('Input type:', input_details[0]['dtype'])\n",
        "print('Output shape:', output_details[0]['shape'])\n",
        "print('Output type:', output_details[0]['dtype'])"
      ]
    },
    {
      "attachments": {},
      "cell_type": "markdown",
      "id": "XPZTKvVD2d8a",
      "metadata": {
        "id": "XPZTKvVD2d8a"
      },
      "source": [
        "## Evaluation of Lite Version of Trained Model"
      ]
    },
    {
      "cell_type": "code",
      "execution_count": 46,
      "id": "Fvu-55JS1bc0",
      "metadata": {
        "id": "Fvu-55JS1bc0"
      },
      "outputs": [
        {
          "name": "stderr",
          "output_type": "stream",
          "text": [
            "2023-07-19 11:29:49.777192: I tensorflow/compiler/xla/stream_executor/cuda/cuda_gpu_executor.cc:981] successful NUMA node read from SysFS had negative value (-1), but there must be at least one NUMA node, so returning NUMA node zero\n",
            "2023-07-19 11:29:49.777356: W tensorflow/core/common_runtime/gpu/gpu_device.cc:1934] Cannot dlopen some GPU libraries. Please make sure the missing libraries mentioned above are installed properly if you would like to use GPU. Follow the guide at https://www.tensorflow.org/install/gpu for how to download and setup the required libraries for your platform.\n",
            "Skipping registering GPU devices...\n"
          ]
        },
        {
          "name": "stdout",
          "output_type": "stream",
          "text": [
            "Accuracy: 100.00%\n"
          ]
        },
        {
          "data": {
            "image/png": "[encoded data removed]",
            "text/plain": [
              "<Figure size 1500x800 with 2 Axes>"
            ]
          },
          "metadata": {},
          "output_type": "display_data"
        }
      ],
      "source": [
        "import tensorflow as tf\n",
        "import numpy as np\n",
        "from sklearn import metrics\n",
        "import seaborn as sns\n",
        "import matplotlib.pyplot as plt\n",
        "\n",
        "# Load the TensorFlow Lite model.\n",
        "interpreter = tf.lite.Interpreter(trained_Model_Lite_Path)\n",
        "interpreter.allocate_tensors()\n",
        "\n",
        "# Get the input and output details.\n",
        "input_details = interpreter.get_input_details()\n",
        "output_details = interpreter.get_output_details()\n",
        "\n",
        "\n",
        "\n",
        "# Load the test data.\n",
        "X_test = X \n",
        "y_test = y \n",
        "\n",
        "\n",
        "\n",
        "# Test the model on the test data.\n",
        "correct = 0\n",
        "y_pred = []\n",
        "for i in range(len(X_test)):\n",
        "    # Preprocess the input data.\n",
        "    input_data = X_test[i].astype(np.float32)\n",
        "    input_data = np.expand_dims(input_data, axis=0)\n",
        "\n",
        "    # Set the input tensor.\n",
        "    interpreter.set_tensor(input_details[0]['index'], input_data)\n",
        "\n",
        "    # Run inference.\n",
        "    interpreter.invoke()\n",
        "\n",
        "    # Get the output tensor.\n",
        "    output_data = interpreter.get_tensor(output_details[0]['index'])\n",
        "    prediction = np.argmax(output_data)\n",
        "\n",
        "    # Check if the prediction is correct.\n",
        "    if prediction == (y_test[i]):\n",
        "        correct += 1\n",
        "    y_pred.append(prediction)\n",
        "\n",
        "accuracy = correct / len(X_test)\n",
        "print(\"Accuracy: {:.2f}%\".format(accuracy * 100))\n",
        "\n",
        "\n",
        "\n",
        "\n",
        "# Convert y_test from one-hot encoded array to 1D array of labels.\n",
        "y_test_labels = np.argmax(np.expand_dims(y_test, axis=0), axis=1)\n",
        "\n",
        "\n",
        "# confusion matrix\n",
        "LABELS = [\n",
        "    'Indoor',\n",
        "    'Outdoor'\n",
        "]\n",
        "class_labels = LABELS\n",
        "mat = confusion_matrix(y_test, y_pred)\n",
        "sns.heatmap(mat, xticklabels = class_labels, yticklabels = class_labels, annot = True, linewidths = 0.1, fmt='d', cmap = 'YlGnBu')\n",
        "plt.title(\"Confusion matrix\", fontsize = 15)\n",
        "plt.ylabel('True label')\n",
        "plt.xlabel('Predicted label')\n",
        "plt.show()\n",
        "\n"
      ]
    },
    {
      "attachments": {},
      "cell_type": "markdown",
      "id": "OgGC4J3v2pZB",
      "metadata": {
        "id": "OgGC4J3v2pZB"
      },
      "source": [
        "## Comparison of Trained Model and Lite Version of Trained Model"
      ]
    },
    {
      "cell_type": "code",
      "execution_count": 47,
      "id": "9bf9sr5y2kE8",
      "metadata": {
        "id": "9bf9sr5y2kE8"
      },
      "outputs": [
        {
          "name": "stdout",
          "output_type": "stream",
          "text": [
            "Comparison of Trained Model and Lite Version of Trained Model :\n",
            "Trained Model (Full) - Test Accuracy: 100.00%\n",
            "Trained Model (Lite) - Test Accuracy: 100.00%\n"
          ]
        }
      ],
      "source": [
        "print(\"Comparison of Trained Model and Lite Version of Trained Model :\")\n",
        "test_Accuracy_Trained_Model =  (test_acc*100)\n",
        "test_Accuracy_Trained_Model_Lite = accuracy * 100\n",
        "print(\"Trained Model (Full) - Test Accuracy: %.2f%%\" % (test_Accuracy_Trained_Model))\n",
        "print(\"Trained Model (Lite) - Test Accuracy: {:.2f}%\".format(test_Accuracy_Trained_Model_Lite))\n"
      ]
    }
  ],
  "metadata": {
    "accelerator": "GPU",
    "colab": {
      "provenance": []
    },
    "kernelspec": {
      "display_name": "Python 3",
      "name": "python3"
    },
    "language_info": {
      "codemirror_mode": {
        "name": "ipython",
        "version": 3
      },
      "file_extension": ".py",
      "mimetype": "text/x-python",
      "name": "python",
      "nbconvert_exporter": "python",
      "pygments_lexer": "ipython3",
      "version": "3.10.8"
    },
    "vscode": {
      "interpreter": {
        "hash": "a77d4e95e7a3363a347c696d2b719ef4f7d1183739f552763cecff6395d1ebb1"
      }
    }
  },
  "nbformat": 4,
  "nbformat_minor": 5
}
